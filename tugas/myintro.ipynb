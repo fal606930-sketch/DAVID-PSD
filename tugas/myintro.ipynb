{
  "cells": [
    {
      "cell_type": "markdown",
      "metadata": {},
      "source": [
        "# my introdoction\n",
        "\n",
        "## Nama : Dicky Saputra\n",
        "## Nim  : 23041110017\n",
        "## Prodi: Teknik Informatika\n",
        "## email: saputradikidiki12@gmail.com"
      ]
    }
  ],
  "metadata": {
    "colab": {
      "provenance": []
    },
    "kernelspec": {
      "display_name": "Python 3",
      "name": "python3"
    },
    "language_info": {
      "name": "python"
    }
  },
  "nbformat": 4,
  "nbformat_minor": 0
}
