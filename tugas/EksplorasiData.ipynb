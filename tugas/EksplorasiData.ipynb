{
 "cells": [
  {
   "cell_type": "markdown",
   "id": "3004e402",
   "metadata": {},
   "source": [
    "# Eksplorasi Data"
   ]
  }
 ],
 "metadata": {
  "language_info": {
   "name": "python"
  }
 },
 "nbformat": 4,
 "nbformat_minor": 5
}
