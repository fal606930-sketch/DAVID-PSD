{
 "cells": [
  {
   "cell_type": "markdown",
   "id": "f0830ce6",
   "metadata": {},
   "source": [
    "# Data Understanding"
   ]
  }
 ],
 "metadata": {
  "language_info": {
   "name": "python"
  }
 },
 "nbformat": 4,
 "nbformat_minor": 5
}
