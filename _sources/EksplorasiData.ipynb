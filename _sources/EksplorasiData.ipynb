{
 "cells": [
  {
   "cell_type": "code",
   "execution_count": 33,
   "id": "53297d90",
   "metadata": {},
   "outputs": [
    {
     "name": "stdout",
     "output_type": "stream",
     "text": [
      "Requirement already satisfied: sqlalchemy in c:\\users\\user\\anaconda3\\lib\\site-packages (2.0.39)\n",
      "Requirement already satisfied: psycopg2-binary in c:\\users\\user\\anaconda3\\lib\\site-packages (2.9.10)\n",
      "Requirement already satisfied: greenlet!=0.4.17 in c:\\users\\user\\anaconda3\\lib\\site-packages (from sqlalchemy) (3.1.1)\n",
      "Requirement already satisfied: typing-extensions>=4.6.0 in c:\\users\\user\\anaconda3\\lib\\site-packages (from sqlalchemy) (4.12.2)\n"
     ]
    }
   ],
   "source": [
    "!pip install sqlalchemy psycopg2-binary"
   ]
  },
  {
   "cell_type": "markdown",
   "id": "aca54858",
   "metadata": {},
   "source": [
    "# tugas2\n",
    "## Penjelasan Kode\n",
    "\n",
    "### 1. Import Library\n",
    "```python\n",
    "import pandas as pd\n",
    "import numpy as np\n",
    "import matplotlib.pyplot as plt\n",
    "import seaborn as sns\n"
   ]
  },
  {
   "cell_type": "code",
   "execution_count": 35,
   "id": "542497b7",
   "metadata": {},
   "outputs": [],
   "source": [
    "# Mengimpor library yang diperlukan\n",
    "import pandas as pd\n",
    "import numpy as np\n",
    "import matplotlib.pyplot as plt\n",
    "import seaborn as sns\n",
    "\n",
    "# Mengatur gaya visualisasi agar lebih menarik\n",
    "sns.set_style('whitegrid')"
   ]
  },
  {
   "cell_type": "markdown",
   "id": "9c005609",
   "metadata": {},
   "source": [
    "## Memuat Data\n",
    "\n",
    "\n",
    "\n"
   ]
  },
  {
   "cell_type": "code",
   "execution_count": 34,
   "id": "31b6746b",
   "metadata": {},
   "outputs": [
    {
     "name": "stdout",
     "output_type": "stream",
     "text": [
      "✅ Berhasil terhubung dan mengambil data dari PostgreSQL.\n",
      "\n",
      "5 Baris Data Teratas:\n"
     ]
    },
    {
     "data": {
      "text/html": [
       "<div>\n",
       "<style scoped>\n",
       "    .dataframe tbody tr th:only-of-type {\n",
       "        vertical-align: middle;\n",
       "    }\n",
       "\n",
       "    .dataframe tbody tr th {\n",
       "        vertical-align: top;\n",
       "    }\n",
       "\n",
       "    .dataframe thead th {\n",
       "        text-align: right;\n",
       "    }\n",
       "</style>\n",
       "<table border=\"1\" class=\"dataframe\">\n",
       "  <thead>\n",
       "    <tr style=\"text-align: right;\">\n",
       "      <th></th>\n",
       "      <th>Rank</th>\n",
       "      <th>Title</th>\n",
       "      <th>Release</th>\n",
       "      <th>Runtime</th>\n",
       "      <th>Rated</th>\n",
       "      <th>Ratings</th>\n",
       "    </tr>\n",
       "  </thead>\n",
       "  <tbody>\n",
       "    <tr>\n",
       "      <th>0</th>\n",
       "      <td>1</td>\n",
       "      <td>The Shawshank Redemption</td>\n",
       "      <td>1994</td>\n",
       "      <td>2h 22m</td>\n",
       "      <td>R</td>\n",
       "      <td>9.3</td>\n",
       "    </tr>\n",
       "    <tr>\n",
       "      <th>1</th>\n",
       "      <td>2</td>\n",
       "      <td>The Godfather</td>\n",
       "      <td>1972</td>\n",
       "      <td>2h 55m</td>\n",
       "      <td>R</td>\n",
       "      <td>9.2</td>\n",
       "    </tr>\n",
       "    <tr>\n",
       "      <th>2</th>\n",
       "      <td>3</td>\n",
       "      <td>The Dark Knight</td>\n",
       "      <td>2008</td>\n",
       "      <td>2h 32m</td>\n",
       "      <td>PG-13</td>\n",
       "      <td>9.0</td>\n",
       "    </tr>\n",
       "    <tr>\n",
       "      <th>3</th>\n",
       "      <td>4</td>\n",
       "      <td>The Godfather Part II</td>\n",
       "      <td>1974</td>\n",
       "      <td>3h 22m</td>\n",
       "      <td>R</td>\n",
       "      <td>9.0</td>\n",
       "    </tr>\n",
       "    <tr>\n",
       "      <th>4</th>\n",
       "      <td>5</td>\n",
       "      <td>12 Angry Men</td>\n",
       "      <td>1957</td>\n",
       "      <td>1h 36m</td>\n",
       "      <td>Approved</td>\n",
       "      <td>9.0</td>\n",
       "    </tr>\n",
       "  </tbody>\n",
       "</table>\n",
       "</div>"
      ],
      "text/plain": [
       "   Rank                     Title  Release Runtime     Rated  Ratings\n",
       "0     1  The Shawshank Redemption     1994  2h 22m         R      9.3\n",
       "1     2             The Godfather     1972  2h 55m         R      9.2\n",
       "2     3           The Dark Knight     2008  2h 32m     PG-13      9.0\n",
       "3     4     The Godfather Part II     1974  3h 22m         R      9.0\n",
       "4     5              12 Angry Men     1957  1h 36m  Approved      9.0"
      ]
     },
     "metadata": {},
     "output_type": "display_data"
    }
   ],
   "source": [
    "import pandas as pd\n",
    "from sqlalchemy import create_engine\n",
    "\n",
    "# --- GANTI INFORMASI DI BAWAH INI ---\n",
    "db_user = 'postgres'\n",
    "db_password = '123456789'\n",
    "db_host = 'localhost'\n",
    "db_port = '5432'\n",
    "db_name = 'data_saya'\n",
    "\n",
    "# TODO: GANTI DENGAN NAMA TABEL YANG BENAR DARI PGADMIN\n",
    "# Kemungkinan besar, ini hanya perlu diubah menjadi huruf kecil: 'data_saya'\n",
    "table_name = 'data_saya' \n",
    "# ------------------------------------\n",
    "\n",
    "# Membuat string koneksi (connection string)\n",
    "db_url = f'postgresql://{db_user}:{db_password}@{db_host}:{db_port}/{db_name}'\n",
    "\n",
    "# Membuat engine koneksi ke database\n",
    "engine = None\n",
    "try:\n",
    "    engine = create_engine(db_url)\n",
    "    \n",
    "    # Query SQL untuk mengambil semua data dari tabel\n",
    "    sql_query = f'SELECT * FROM \"{table_name}\";' # Menggunakan kutip dua untuk keamanan\n",
    "    \n",
    "    # Membaca data dari PostgreSQL ke dalam DataFrame pandas\n",
    "    df = pd.read_sql(sql_query, engine)\n",
    "    \n",
    "    print(\"✅ Berhasil terhubung dan mengambil data dari PostgreSQL.\")\n",
    "    print(\"\\n5 Baris Data Teratas:\")\n",
    "    display(df.head())\n",
    "\n",
    "except Exception as e:\n",
    "    print(f\"❌ Gagal mengambil data: {e}\")\n",
    "\n",
    "finally:\n",
    "    if engine is not None:\n",
    "        engine.dispose() # Menutup koneksi"
   ]
  },
  {
   "cell_type": "markdown",
   "id": "ac2bbd17",
   "metadata": {},
   "source": [
    "## Informasi Dasar dan Tipe Data"
   ]
  },
  {
   "cell_type": "code",
   "execution_count": 36,
   "id": "402e3a43",
   "metadata": {},
   "outputs": [
    {
     "name": "stdout",
     "output_type": "stream",
     "text": [
      "Informasi Dataset:\n",
      "<class 'pandas.core.frame.DataFrame'>\n",
      "RangeIndex: 250 entries, 0 to 249\n",
      "Data columns (total 6 columns):\n",
      " #   Column   Non-Null Count  Dtype  \n",
      "---  ------   --------------  -----  \n",
      " 0   Rank     250 non-null    int64  \n",
      " 1   Title    250 non-null    object \n",
      " 2   Release  250 non-null    int64  \n",
      " 3   Runtime  250 non-null    object \n",
      " 4   Rated    250 non-null    object \n",
      " 5   Ratings  250 non-null    float64\n",
      "dtypes: float64(1), int64(2), object(3)\n",
      "memory usage: 11.8+ KB\n"
     ]
    }
   ],
   "source": [
    "# Mendapatkan ringkasan informasi dataset\n",
    "print(\"Informasi Dataset:\")\n",
    "df.info()"
   ]
  },
  {
   "cell_type": "markdown",
   "id": "a13fdc78",
   "metadata": {},
   "source": [
    "## Analisis Kualitas Data (Missing Values)"
   ]
  },
  {
   "cell_type": "code",
   "execution_count": 37,
   "id": "e7c7339d",
   "metadata": {},
   "outputs": [
    {
     "name": "stdout",
     "output_type": "stream",
     "text": [
      "Analisis Missing Values:\n"
     ]
    },
    {
     "data": {
      "text/html": [
       "<div>\n",
       "<style scoped>\n",
       "    .dataframe tbody tr th:only-of-type {\n",
       "        vertical-align: middle;\n",
       "    }\n",
       "\n",
       "    .dataframe tbody tr th {\n",
       "        vertical-align: top;\n",
       "    }\n",
       "\n",
       "    .dataframe thead th {\n",
       "        text-align: right;\n",
       "    }\n",
       "</style>\n",
       "<table border=\"1\" class=\"dataframe\">\n",
       "  <thead>\n",
       "    <tr style=\"text-align: right;\">\n",
       "      <th></th>\n",
       "      <th>Jumlah Missing</th>\n",
       "      <th>Persentase (%)</th>\n",
       "    </tr>\n",
       "  </thead>\n",
       "  <tbody>\n",
       "  </tbody>\n",
       "</table>\n",
       "</div>"
      ],
      "text/plain": [
       "Empty DataFrame\n",
       "Columns: [Jumlah Missing, Persentase (%)]\n",
       "Index: []"
      ]
     },
     "execution_count": 37,
     "metadata": {},
     "output_type": "execute_result"
    }
   ],
   "source": [
    "# Menghitung jumlah missing values di setiap kolom\n",
    "missing_values = df.isnull().sum()\n",
    "\n",
    "# Menghitung persentase missing values\n",
    "percentage_missing = (missing_values / len(df)) * 100\n",
    "\n",
    "# Membuat DataFrame untuk menampilkan hasilnya\n",
    "missing_info = pd.DataFrame({'Jumlah Missing': missing_values, 'Persentase (%)': percentage_missing})\n",
    "\n",
    "# Menampilkan kolom yang memiliki missing values saja\n",
    "print(\"Analisis Missing Values:\")\n",
    "missing_info[missing_info['Jumlah Missing'] > 0].sort_values(by='Jumlah Missing', ascending=False)"
   ]
  },
  {
   "cell_type": "markdown",
   "id": "ec603b90",
   "metadata": {},
   "source": [
    "## Pra-pemrosesan Data (Data Cleaning)"
   ]
  },
  {
   "cell_type": "code",
   "execution_count": 38,
   "id": "5b262fe8",
   "metadata": {},
   "outputs": [
    {
     "name": "stdout",
     "output_type": "stream",
     "text": [
      "Data setelah konversi kolom 'Runtime':\n"
     ]
    },
    {
     "data": {
      "text/html": [
       "<div>\n",
       "<style scoped>\n",
       "    .dataframe tbody tr th:only-of-type {\n",
       "        vertical-align: middle;\n",
       "    }\n",
       "\n",
       "    .dataframe tbody tr th {\n",
       "        vertical-align: top;\n",
       "    }\n",
       "\n",
       "    .dataframe thead th {\n",
       "        text-align: right;\n",
       "    }\n",
       "</style>\n",
       "<table border=\"1\" class=\"dataframe\">\n",
       "  <thead>\n",
       "    <tr style=\"text-align: right;\">\n",
       "      <th></th>\n",
       "      <th>Title</th>\n",
       "      <th>Runtime</th>\n",
       "      <th>Runtime_minutes</th>\n",
       "    </tr>\n",
       "  </thead>\n",
       "  <tbody>\n",
       "    <tr>\n",
       "      <th>0</th>\n",
       "      <td>The Shawshank Redemption</td>\n",
       "      <td>2h 22m</td>\n",
       "      <td>142</td>\n",
       "    </tr>\n",
       "    <tr>\n",
       "      <th>1</th>\n",
       "      <td>The Godfather</td>\n",
       "      <td>2h 55m</td>\n",
       "      <td>175</td>\n",
       "    </tr>\n",
       "    <tr>\n",
       "      <th>2</th>\n",
       "      <td>The Dark Knight</td>\n",
       "      <td>2h 32m</td>\n",
       "      <td>152</td>\n",
       "    </tr>\n",
       "    <tr>\n",
       "      <th>3</th>\n",
       "      <td>The Godfather Part II</td>\n",
       "      <td>3h 22m</td>\n",
       "      <td>202</td>\n",
       "    </tr>\n",
       "    <tr>\n",
       "      <th>4</th>\n",
       "      <td>12 Angry Men</td>\n",
       "      <td>1h 36m</td>\n",
       "      <td>96</td>\n",
       "    </tr>\n",
       "  </tbody>\n",
       "</table>\n",
       "</div>"
      ],
      "text/plain": [
       "                      Title Runtime  Runtime_minutes\n",
       "0  The Shawshank Redemption  2h 22m              142\n",
       "1             The Godfather  2h 55m              175\n",
       "2           The Dark Knight  2h 32m              152\n",
       "3     The Godfather Part II  3h 22m              202\n",
       "4              12 Angry Men  1h 36m               96"
      ]
     },
     "execution_count": 38,
     "metadata": {},
     "output_type": "execute_result"
    }
   ],
   "source": [
    "# Fungsi untuk mengonversi format runtime ke total menit\n",
    "def convert_runtime_to_minutes(runtime_str):\n",
    "    if isinstance(runtime_str, str):\n",
    "        hours = 0\n",
    "        minutes = 0\n",
    "        if 'h' in runtime_str:\n",
    "            hours = int(runtime_str.split('h')[0])\n",
    "        if 'm' in runtime_str:\n",
    "            minutes_part = runtime_str.split('m')[0]\n",
    "            if 'h' in minutes_part:\n",
    "                minutes = int(minutes_part.split('h')[1].strip())\n",
    "            else:\n",
    "                minutes = int(minutes_part)\n",
    "        return hours * 60 + minutes\n",
    "    return None # Mengembalikan None jika bukan string\n",
    "\n",
    "# Membuat kolom baru 'Runtime_minutes' dengan format numerik\n",
    "df['Runtime_minutes'] = df['Runtime'].apply(convert_runtime_to_minutes)\n",
    "\n",
    "# Menampilkan hasil konversi\n",
    "print(\"Data setelah konversi kolom 'Runtime':\")\n",
    "df[['Title', 'Runtime', 'Runtime_minutes']].head()"
   ]
  },
  {
   "cell_type": "markdown",
   "id": "7d2d975b",
   "metadata": {},
   "source": [
    "## Statistik Deskriptif"
   ]
  },
  {
   "cell_type": "code",
   "execution_count": 39,
   "id": "63c1700e",
   "metadata": {},
   "outputs": [
    {
     "name": "stdout",
     "output_type": "stream",
     "text": [
      "Statistik Deskriptif untuk Kolom Numerik:\n"
     ]
    },
    {
     "data": {
      "text/html": [
       "<div>\n",
       "<style scoped>\n",
       "    .dataframe tbody tr th:only-of-type {\n",
       "        vertical-align: middle;\n",
       "    }\n",
       "\n",
       "    .dataframe tbody tr th {\n",
       "        vertical-align: top;\n",
       "    }\n",
       "\n",
       "    .dataframe thead th {\n",
       "        text-align: right;\n",
       "    }\n",
       "</style>\n",
       "<table border=\"1\" class=\"dataframe\">\n",
       "  <thead>\n",
       "    <tr style=\"text-align: right;\">\n",
       "      <th></th>\n",
       "      <th>Rank</th>\n",
       "      <th>Release</th>\n",
       "      <th>Ratings</th>\n",
       "      <th>Runtime_minutes</th>\n",
       "    </tr>\n",
       "  </thead>\n",
       "  <tbody>\n",
       "    <tr>\n",
       "      <th>count</th>\n",
       "      <td>250.000000</td>\n",
       "      <td>250.00000</td>\n",
       "      <td>250.000000</td>\n",
       "      <td>250.000000</td>\n",
       "    </tr>\n",
       "    <tr>\n",
       "      <th>mean</th>\n",
       "      <td>125.500000</td>\n",
       "      <td>1988.17200</td>\n",
       "      <td>8.310000</td>\n",
       "      <td>129.796000</td>\n",
       "    </tr>\n",
       "    <tr>\n",
       "      <th>std</th>\n",
       "      <td>72.312977</td>\n",
       "      <td>25.59631</td>\n",
       "      <td>0.232716</td>\n",
       "      <td>29.942555</td>\n",
       "    </tr>\n",
       "    <tr>\n",
       "      <th>min</th>\n",
       "      <td>1.000000</td>\n",
       "      <td>1921.00000</td>\n",
       "      <td>8.000000</td>\n",
       "      <td>45.000000</td>\n",
       "    </tr>\n",
       "    <tr>\n",
       "      <th>25%</th>\n",
       "      <td>63.250000</td>\n",
       "      <td>1971.25000</td>\n",
       "      <td>8.100000</td>\n",
       "      <td>108.250000</td>\n",
       "    </tr>\n",
       "    <tr>\n",
       "      <th>50%</th>\n",
       "      <td>125.500000</td>\n",
       "      <td>1995.00000</td>\n",
       "      <td>8.200000</td>\n",
       "      <td>127.500000</td>\n",
       "    </tr>\n",
       "    <tr>\n",
       "      <th>75%</th>\n",
       "      <td>187.750000</td>\n",
       "      <td>2008.75000</td>\n",
       "      <td>8.400000</td>\n",
       "      <td>146.750000</td>\n",
       "    </tr>\n",
       "    <tr>\n",
       "      <th>max</th>\n",
       "      <td>250.000000</td>\n",
       "      <td>2024.00000</td>\n",
       "      <td>9.300000</td>\n",
       "      <td>238.000000</td>\n",
       "    </tr>\n",
       "  </tbody>\n",
       "</table>\n",
       "</div>"
      ],
      "text/plain": [
       "             Rank     Release     Ratings  Runtime_minutes\n",
       "count  250.000000   250.00000  250.000000       250.000000\n",
       "mean   125.500000  1988.17200    8.310000       129.796000\n",
       "std     72.312977    25.59631    0.232716        29.942555\n",
       "min      1.000000  1921.00000    8.000000        45.000000\n",
       "25%     63.250000  1971.25000    8.100000       108.250000\n",
       "50%    125.500000  1995.00000    8.200000       127.500000\n",
       "75%    187.750000  2008.75000    8.400000       146.750000\n",
       "max    250.000000  2024.00000    9.300000       238.000000"
      ]
     },
     "execution_count": 39,
     "metadata": {},
     "output_type": "execute_result"
    }
   ],
   "source": [
    "# Menampilkan statistik deskriptif untuk kolom numerik\n",
    "# 'Rank' mungkin tidak relevan untuk dianalisis distribusinya, jadi bisa kita drop\n",
    "print(\"Statistik Deskriptif untuk Kolom Numerik:\")\n",
    "df.describe()"
   ]
  },
  {
   "cell_type": "markdown",
   "id": "b24c8111",
   "metadata": {},
   "source": [
    "## Analisis Outlier dengan Metode IQR"
   ]
  },
  {
   "cell_type": "code",
   "execution_count": 40,
   "id": "238a2ae9",
   "metadata": {},
   "outputs": [
    {
     "name": "stdout",
     "output_type": "stream",
     "text": [
      "Analisis Outlier dengan Metode IQR:\n",
      "\n",
      "--- Analisis Kolom: Release ---\n",
      "Batas Bawah: 1915.00\n",
      "Batas Atas: 2065.00\n",
      "Jumlah Outlier Terdeteksi: 0\n",
      "\n",
      "--- Analisis Kolom: Ratings ---\n",
      "Batas Bawah: 7.65\n",
      "Batas Atas: 8.85\n",
      "Jumlah Outlier Terdeteksi: 9\n",
      "Contoh Outlier:\n",
      "                      Title  Ratings\n",
      "0  The Shawshank Redemption      9.3\n",
      "1             The Godfather      9.2\n",
      "2           The Dark Knight      9.0\n",
      "3     The Godfather Part II      9.0\n",
      "4              12 Angry Men      9.0\n",
      "\n",
      "--- Analisis Kolom: Runtime_minutes ---\n",
      "Batas Bawah: 50.50\n",
      "Batas Atas: 204.50\n",
      "Jumlah Outlier Terdeteksi: 6\n",
      "Contoh Outlier:\n",
      "                           Title  Runtime_minutes\n",
      "21                 Seven Samurai              207\n",
      "86   Once Upon a Time in America              229\n",
      "99            Lawrence of Arabia              227\n",
      "162           Gone with the Wind              238\n",
      "182                      Ben-Hur              212\n"
     ]
    }
   ],
   "source": [
    "# Kolom numerik yang akan dianalisis untuk outlier\n",
    "numerical_cols = ['Release', 'Ratings', 'Runtime_minutes']\n",
    "\n",
    "print(\"Analisis Outlier dengan Metode IQR:\")\n",
    "for col in numerical_cols:\n",
    "    Q1 = df[col].quantile(0.25)\n",
    "    Q3 = df[col].quantile(0.75)\n",
    "    IQR = Q3 - Q1\n",
    "    \n",
    "    lower_bound = Q1 - 1.5 * IQR\n",
    "    upper_bound = Q3 + 1.5 * IQR\n",
    "    \n",
    "    # Mencari outlier\n",
    "    outliers = df[(df[col] < lower_bound) | (df[col] > upper_bound)]\n",
    "    \n",
    "    print(f\"\\n--- Analisis Kolom: {col} ---\")\n",
    "    print(f\"Batas Bawah: {lower_bound:.2f}\")\n",
    "    print(f\"Batas Atas: {upper_bound:.2f}\")\n",
    "    print(f\"Jumlah Outlier Terdeteksi: {len(outliers)}\")\n",
    "    \n",
    "    if not outliers.empty:\n",
    "        print(\"Contoh Outlier:\")\n",
    "        print(outliers[['Title', col]].head())"
   ]
  },
  {
   "cell_type": "markdown",
   "id": "41b5a328",
   "metadata": {},
   "source": [
    "## Visualisasi Outlier dengan Box Plot"
   ]
  },
  {
   "cell_type": "code",
   "execution_count": 41,
   "id": "fb78bb60",
   "metadata": {},
   "outputs": [
    {
     "data": {
      "image/png": "[encoded data removed]",
      "text/plain": [
       "<Figure size 1500x500 with 3 Axes>"
      ]
     },
     "metadata": {},
     "output_type": "display_data"
    }
   ],
   "source": [
    "# Membuat Box Plot untuk setiap kolom numerik untuk melihat outlier\n",
    "plt.figure(figsize=(15, 5))\n",
    "\n",
    "for i, col in enumerate(numerical_cols, 1):\n",
    "    plt.subplot(1, 3, i)\n",
    "    sns.boxplot(y=df[col])\n",
    "    plt.title(f'Box Plot untuk {col}')\n",
    "    plt.ylabel(col)\n",
    "\n",
    "plt.tight_layout()\n",
    "plt.show()"
   ]
  },
  {
   "cell_type": "markdown",
   "id": "f985b60a",
   "metadata": {},
   "source": [
    "## Analisis Konsistensi Data (Kolom Kategorikal)"
   ]
  },
  {
   "cell_type": "code",
   "execution_count": 42,
   "id": "f533cce6",
   "metadata": {},
   "outputs": [
    {
     "name": "stdout",
     "output_type": "stream",
     "text": [
      "Distribusi Kategori pada Kolom 'Rated':\n",
      "Rated\n",
      "R            101\n",
      "PG            39\n",
      "PG-13         35\n",
      "Not Rated     29\n",
      "Approved      22\n",
      "G             18\n",
      "Passed         5\n",
      "NC-17          1\n",
      "Name: count, dtype: int64\n"
     ]
    },
    {
     "name": "stderr",
     "output_type": "stream",
     "text": [
      "C:\\Users\\user\\AppData\\Local\\Temp\\ipykernel_17076\\368845606.py:8: FutureWarning: \n",
      "\n",
      "Passing `palette` without assigning `hue` is deprecated and will be removed in v0.14.0. Assign the `y` variable to `hue` and set `legend=False` for the same effect.\n",
      "\n",
      "  sns.countplot(y=df['Rated'], order=rated_counts.index, palette='viridis')\n"
     ]
    },
    {
     "data": {
      "image/png": "[encoded data removed]",
      "text/plain": [
       "<Figure size 1000x600 with 1 Axes>"
      ]
     },
     "metadata": {},
     "output_type": "display_data"
    }
   ],
   "source": [
    "# Memeriksa konsistensi dan distribusi data pada kolom 'Rated'\n",
    "print(\"Distribusi Kategori pada Kolom 'Rated':\")\n",
    "rated_counts = df['Rated'].value_counts()\n",
    "print(rated_counts)\n",
    "\n",
    "# Visualisasi distribusi kolom 'Rated'\n",
    "plt.figure(figsize=(10, 6))\n",
    "sns.countplot(y=df['Rated'], order=rated_counts.index, palette='viridis')\n",
    "plt.title('Jumlah Film Berdasarkan Rating (Rated)')\n",
    "plt.xlabel('Jumlah Film')\n",
    "plt.ylabel('Rating')\n",
    "plt.show()"
   ]
  }
 ],
 "metadata": {
  "kernelspec": {
   "display_name": "base",
   "language": "python",
   "name": "python3"
  },
  "language_info": {
   "codemirror_mode": {
    "name": "ipython",
    "version": 3
   },
   "file_extension": ".py",
   "mimetype": "text/x-python",
   "name": "python",
   "nbconvert_exporter": "python",
   "pygments_lexer": "ipython3",
   "version": "3.13.5"
  }
 },
 "nbformat": 4,
 "nbformat_minor": 5
}
