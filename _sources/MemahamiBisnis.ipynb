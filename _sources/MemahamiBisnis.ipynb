{
 "cells": [
  {
   "cell_type": "markdown",
   "id": "b21cedc0",
   "metadata": {},
   "source": [
    "# Memahami Bisnis"
   ]
  }
 ],
 "metadata": {
  "language_info": {
   "name": "python"
  }
 },
 "nbformat": 4,
 "nbformat_minor": 5
}
