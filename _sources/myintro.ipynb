{
  "cells": [
    {
      "cell_type": "markdown",
      "metadata": {},
      "source": [
        "# my introdoction\n",
        "\n",
        "## Nama : David Febrianto\n",
        "## Nim  : 230411100062\n",
        "## Prodi: Teknik Informatika\n",
        "## email: fal606930@gmail.com"
      ]
    }
  ],
  "metadata": {
    "colab": {
      "provenance": []
    },
    "kernelspec": {
      "display_name": "Python 3",
      "name": "python3"
    },
    "language_info": {
      "name": "python"
    }
  },
  "nbformat": 4,
  "nbformat_minor": 0
}
