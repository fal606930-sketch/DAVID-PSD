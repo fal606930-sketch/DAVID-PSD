{
 "cells": [
  {
   "cell_type": "markdown",
   "id": "62e9e5e6",
   "metadata": {},
   "source": [
    "# Penjelasan Code2\n",
    "\n",
    "### 1. Import Library\n",
    "- **pandas**: digunakan untuk manipulasi dan analisis data.\n",
    "- **sqlalchemy**: digunakan untuk membuat koneksi ke database SQL.\n",
    "- **pycaret.clustering & pycaret.anomaly**: modul dari PyCaret untuk melakukan analisis clustering dan deteksi anomali.\n",
    "\n",
    "### 2. Konfigurasi Koneksi Database\n",
    "```python\n",
    "db_user = 'user'\n",
    "db_password = 'password'\n",
    "db_host = 'localhost'\n",
    "db_port = '5432'\n",
    "db_name = 'iris_data'\n",
    "table_name = 'iris_data'\n"
   ]
  },
  {
   "cell_type": "markdown",
   "id": "6330eb06",
   "metadata": {},
   "source": [
    "## Instalasi Library yang Dibutuhkan"
   ]
  },
  {
   "cell_type": "code",
   "execution_count": 1,
   "id": "7f4ce5db",
   "metadata": {},
   "outputs": [
    {
     "name": "stdout",
     "output_type": "stream",
     "text": [
      "Requirement already satisfied: pycaret[full] in c:\\users\\user\\appdata\\local\\programs\\python\\python311\\lib\\site-packages (3.3.2)\n",
      "Requirement already satisfied: psycopg2-binary in c:\\users\\user\\appdata\\local\\programs\\python\\python311\\lib\\site-packages (2.9.10)\n",
      "Requirement already satisfied: sqlalchemy in c:\\users\\user\\appdata\\local\\programs\\python\\python311\\lib\\site-packages (2.0.43)\n",
      "Requirement already satisfied: ipython>=5.5.0 in c:\\users\\user\\appdata\\local\\programs\\python\\python311\\lib\\site-packages (from pycaret[full]) (9.5.0)\n",
      "Requirement already satisfied: ipywidgets>=7.6.5 in c:\\users\\user\\appdata\\local\\programs\\python\\python311\\lib\\site-packages (from pycaret[full]) (8.1.7)\n",
      "Requirement already satisfied: tqdm>=4.62.0 in c:\\users\\user\\appdata\\local\\programs\\python\\python311\\lib\\site-packages (from pycaret[full]) (4.67.1)\n",
      "Requirement already satisfied: numpy<1.27,>=1.21 in c:\\users\\user\\appdata\\local\\programs\\python\\python311\\lib\\site-packages (from pycaret[full]) (1.26.4)\n",
      "Requirement already satisfied: pandas<2.2.0 in c:\\users\\user\\appdata\\local\\programs\\python\\python311\\lib\\site-packages (from pycaret[full]) (2.1.4)\n",
      "Requirement already satisfied: jinja2>=3 in c:\\users\\user\\appdata\\local\\programs\\python\\python311\\lib\\site-packages (from pycaret[full]) (3.1.6)\n",
      "Requirement already satisfied: scipy<=1.11.4,>=1.6.1 in c:\\users\\user\\appdata\\local\\programs\\python\\python311\\lib\\site-packages (from pycaret[full]) (1.11.4)\n",
      "Requirement already satisfied: joblib<1.4,>=1.2.0 in c:\\users\\user\\appdata\\local\\programs\\python\\python311\\lib\\site-packages (from pycaret[full]) (1.3.2)\n",
      "Requirement already satisfied: scikit-learn>1.4.0 in c:\\users\\user\\appdata\\local\\programs\\python\\python311\\lib\\site-packages (from pycaret[full]) (1.4.2)\n",
      "Requirement already satisfied: pyod>=1.1.3 in c:\\users\\user\\appdata\\local\\programs\\python\\python311\\lib\\site-packages (from pycaret[full]) (2.0.5)\n",
      "Requirement already satisfied: imbalanced-learn>=0.12.0 in c:\\users\\user\\appdata\\local\\programs\\python\\python311\\lib\\site-packages (from pycaret[full]) (0.14.0)\n",
      "Requirement already satisfied: category-encoders>=2.4.0 in c:\\users\\user\\appdata\\local\\programs\\python\\python311\\lib\\site-packages (from pycaret[full]) (2.7.0)\n",
      "Requirement already satisfied: lightgbm>=3.0.0 in c:\\users\\user\\appdata\\local\\programs\\python\\python311\\lib\\site-packages (from pycaret[full]) (4.6.0)\n",
      "Requirement already satisfied: numba>=0.55.0 in c:\\users\\user\\appdata\\local\\programs\\python\\python311\\lib\\site-packages (from pycaret[full]) (0.61.0)\n",
      "Requirement already satisfied: requests>=2.27.1 in c:\\users\\user\\appdata\\local\\programs\\python\\python311\\lib\\site-packages (from pycaret[full]) (2.32.5)\n",
      "Requirement already satisfied: psutil>=5.9.0 in c:\\users\\user\\appdata\\local\\programs\\python\\python311\\lib\\site-packages (from pycaret[full]) (7.1.0)\n",
      "Requirement already satisfied: markupsafe>=2.0.1 in c:\\users\\user\\appdata\\local\\programs\\python\\python311\\lib\\site-packages (from pycaret[full]) (3.0.2)\n",
      "Requirement already satisfied: importlib-metadata>=4.12.0 in c:\\users\\user\\appdata\\local\\programs\\python\\python311\\lib\\site-packages (from pycaret[full]) (8.7.0)\n",
      "Requirement already satisfied: nbformat>=4.2.0 in c:\\users\\user\\appdata\\local\\programs\\python\\python311\\lib\\site-packages (from pycaret[full]) (5.10.4)\n",
      "Requirement already satisfied: cloudpickle in c:\\users\\user\\appdata\\local\\programs\\python\\python311\\lib\\site-packages (from pycaret[full]) (3.1.1)\n",
      "Requirement already satisfied: deprecation>=2.1.0 in c:\\users\\user\\appdata\\local\\programs\\python\\python311\\lib\\site-packages (from pycaret[full]) (2.1.0)\n",
      "Requirement already satisfied: xxhash in c:\\users\\user\\appdata\\local\\programs\\python\\python311\\lib\\site-packages (from pycaret[full]) (3.5.0)\n",
      "Requirement already satisfied: matplotlib<3.8.0 in c:\\users\\user\\appdata\\local\\programs\\python\\python311\\lib\\site-packages (from pycaret[full]) (3.7.5)\n",
      "Requirement already satisfied: scikit-plot>=0.3.7 in c:\\users\\user\\appdata\\local\\programs\\python\\python311\\lib\\site-packages (from pycaret[full]) (0.3.7)\n",
      "Requirement already satisfied: yellowbrick>=1.4 in c:\\users\\user\\appdata\\local\\programs\\python\\python311\\lib\\site-packages (from pycaret[full]) (1.5)\n",
      "Requirement already satisfied: plotly>=5.14.0 in c:\\users\\user\\appdata\\local\\programs\\python\\python311\\lib\\site-packages (from pycaret[full]) (5.24.1)\n",
      "Requirement already satisfied: kaleido>=0.2.1 in c:\\users\\user\\appdata\\local\\programs\\python\\python311\\lib\\site-packages (from pycaret[full]) (1.1.0)\n",
      "Requirement already satisfied: schemdraw==0.15 in c:\\users\\user\\appdata\\local\\programs\\python\\python311\\lib\\site-packages (from pycaret[full]) (0.15)\n",
      "Requirement already satisfied: plotly-resampler>=0.8.3.1 in c:\\users\\user\\appdata\\local\\programs\\python\\python311\\lib\\site-packages (from pycaret[full]) (0.11.0)\n",
      "Requirement already satisfied: statsmodels>=0.12.1 in c:\\users\\user\\appdata\\local\\programs\\python\\python311\\lib\\site-packages (from pycaret[full]) (0.14.5)\n",
      "Requirement already satisfied: sktime==0.26.0 in c:\\users\\user\\appdata\\local\\programs\\python\\python311\\lib\\site-packages (from pycaret[full]) (0.26.0)\n",
      "Requirement already satisfied: tbats>=1.1.3 in c:\\users\\user\\appdata\\local\\programs\\python\\python311\\lib\\site-packages (from pycaret[full]) (1.1.3)\n",
      "Requirement already satisfied: pmdarima>=2.0.4 in c:\\users\\user\\appdata\\local\\programs\\python\\python311\\lib\\site-packages (from pycaret[full]) (2.0.4)\n",
      "Collecting shap~=0.44.0 (from pycaret[full])\n",
      "  Obtaining dependency information for shap~=0.44.0 from https://files.pythonhosted.org/packages/a3/89/f5cca6e299320e19194ad09f6014db33208a49e8d9161e729725eb17f8a8/shap-0.44.1-cp311-cp311-win_amd64.whl.metadata\n",
      "  Using cached shap-0.44.1-cp311-cp311-win_amd64.whl.metadata (25 kB)\n",
      "Collecting interpret>=0.2.7 (from pycaret[full])\n",
      "  Obtaining dependency information for interpret>=0.2.7 from https://files.pythonhosted.org/packages/1c/65/5391e4dc6ca69612ef340c312711e65c512220d693aca70e74c91bd34d78/interpret-0.7.2-py3-none-any.whl.metadata\n",
      "  Using cached interpret-0.7.2-py3-none-any.whl.metadata (1.2 kB)\n",
      "Collecting umap-learn>=0.5.2 (from pycaret[full])\n",
      "  Obtaining dependency information for umap-learn>=0.5.2 from https://files.pythonhosted.org/packages/6b/b1/c24deeda9baf1fd491aaad941ed89e0fed6c583a117fd7b79e0a33a1e6c0/umap_learn-0.5.9.post2-py3-none-any.whl.metadata\n",
      "  Using cached umap_learn-0.5.9.post2-py3-none-any.whl.metadata (25 kB)\n",
      "Requirement already satisfied: pyyaml in c:\\users\\user\\appdata\\local\\programs\\python\\python311\\lib\\site-packages (from pycaret[full]) (6.0.2)\n",
      "Collecting ydata-profiling>=4.3.1 (from pycaret[full])\n",
      "  Obtaining dependency information for ydata-profiling>=4.3.1 from https://files.pythonhosted.org/packages/79/70/1430ad64b36c3d11abd222a95c1568ee56f5a23b07224c699f2b64825bb9/ydata_profiling-4.16.1-py2.py3-none-any.whl.metadata\n",
      "  Using cached ydata_profiling-4.16.1-py2.py3-none-any.whl.metadata (22 kB)\n",
      "Collecting explainerdashboard>=0.3.8 (from pycaret[full])\n",
      "  Obtaining dependency information for explainerdashboard>=0.3.8 from https://files.pythonhosted.org/packages/57/aa/d55a8972c31877348856def341a1ccc31f9c5c96b2f0f331d62886845c14/explainerdashboard-0.5.1-py3-none-any.whl.metadata\n",
      "  Using cached explainerdashboard-0.5.1-py3-none-any.whl.metadata (32 kB)\n",
      "Collecting fairlearn==0.7.0 (from pycaret[full])\n",
      "  Obtaining dependency information for fairlearn==0.7.0 from https://files.pythonhosted.org/packages/f9/22/93697472801e44344b5f7c3653762c4a143774f62b2a8bf97e7e7b1f7afa/fairlearn-0.7.0-py3-none-any.whl.metadata\n",
      "  Using cached fairlearn-0.7.0-py3-none-any.whl.metadata (7.3 kB)\n",
      "Collecting kmodes>=0.11.1 (from pycaret[full])\n",
      "  Obtaining dependency information for kmodes>=0.11.1 from https://files.pythonhosted.org/packages/1a/a8/0d3bf6f3340cbcb8cf4ad02c306d157af8f09ce86aadf5346e00605870dd/kmodes-0.12.2-py2.py3-none-any.whl.metadata\n",
      "  Using cached kmodes-0.12.2-py2.py3-none-any.whl.metadata (8.1 kB)\n",
      "Collecting mlxtend>=0.19.0 (from pycaret[full])\n",
      "  Obtaining dependency information for mlxtend>=0.19.0 from https://files.pythonhosted.org/packages/4c/43/2fc7f76c8891aef148901f1ba3dee65c1cbac00a85ae5ee0dabc2b861256/mlxtend-0.23.4-py3-none-any.whl.metadata\n",
      "  Using cached mlxtend-0.23.4-py3-none-any.whl.metadata (7.3 kB)\n",
      "Collecting statsforecast<1.6.0,>=0.5.5 (from pycaret[full])\n",
      "  Obtaining dependency information for statsforecast<1.6.0,>=0.5.5 from https://files.pythonhosted.org/packages/ff/a1/7140ebf2bb1c513275d13a63b4718f531f5e0f285bb92e0d954009ad41ef/statsforecast-1.5.0-py3-none-any.whl.metadata\n",
      "  Using cached statsforecast-1.5.0-py3-none-any.whl.metadata (23 kB)\n",
      "Collecting hyperopt>=0.2.7 (from pycaret[full])\n",
      "  Obtaining dependency information for hyperopt>=0.2.7 from https://files.pythonhosted.org/packages/b6/cd/5b3334d39276067f54618ce0d0b48ed69d91352fbf137468c7095170d0e5/hyperopt-0.2.7-py2.py3-none-any.whl.metadata\n",
      "  Using cached hyperopt-0.2.7-py2.py3-none-any.whl.metadata (1.7 kB)\n",
      "Collecting optuna>=3.0.0 (from pycaret[full])\n",
      "  Obtaining dependency information for optuna>=3.0.0 from https://files.pythonhosted.org/packages/7f/12/cba81286cbaf0f0c3f0473846cfd992cb240bdcea816bf2ef7de8ed0f744/optuna-4.5.0-py3-none-any.whl.metadata\n",
      "  Using cached optuna-4.5.0-py3-none-any.whl.metadata (17 kB)\n",
      "Collecting optuna-integration (from pycaret[full])\n",
      "  Obtaining dependency information for optuna-integration from https://files.pythonhosted.org/packages/7e/3a/af425cfd30aede975cae592285bccf384f0dbd6bd4a0a817ef362cb4fe5d/optuna_integration-4.5.0-py3-none-any.whl.metadata\n",
      "  Using cached optuna_integration-4.5.0-py3-none-any.whl.metadata (12 kB)\n",
      "Collecting scikit-optimize>=0.9.0 (from pycaret[full])\n",
      "  Obtaining dependency information for scikit-optimize>=0.9.0 from https://files.pythonhosted.org/packages/65/cd/15c9ebea645cc9860aa71fe0474f4be981f10ed8e19e1fb0ef1027d4966e/scikit_optimize-0.10.2-py2.py3-none-any.whl.metadata\n",
      "  Using cached scikit_optimize-0.10.2-py2.py3-none-any.whl.metadata (9.7 kB)\n",
      "Collecting mlflow>=2.0.0 (from pycaret[full])\n",
      "  Obtaining dependency information for mlflow>=2.0.0 from https://files.pythonhosted.org/packages/52/fe/1ed27f800cd1709a272c6e26b78ec3d77a5ba482171ea1b5bfbcf4c067c0/mlflow-3.4.0-py3-none-any.whl.metadata\n",
      "  Using cached mlflow-3.4.0-py3-none-any.whl.metadata (30 kB)\n",
      "Collecting gradio>=3.50.2 (from pycaret[full])\n",
      "  Obtaining dependency information for gradio>=3.50.2 from https://files.pythonhosted.org/packages/f9/a5/08a02a12331517acd02bfd9e44a940dd141197e2dc527f7a4cfc791268de/gradio-5.46.1-py3-none-any.whl.metadata\n",
      "  Using cached gradio-5.46.1-py3-none-any.whl.metadata (16 kB)\n",
      "Collecting boto3>=1.24.56 (from pycaret[full])\n",
      "  Obtaining dependency information for boto3>=1.24.56 from https://files.pythonhosted.org/packages/db/26/08d814db09dc46eab747c7ebe1d4af5b5158b68e1d7de82ecc71d419eab3/boto3-1.40.35-py3-none-any.whl.metadata\n",
      "  Using cached boto3-1.40.35-py3-none-any.whl.metadata (6.7 kB)\n",
      "Collecting fastapi (from pycaret[full])\n",
      "  Obtaining dependency information for fastapi from https://files.pythonhosted.org/packages/6d/45/d9d3e8eeefbe93be1c50060a9d9a9f366dba66f288bb518a9566a23a8631/fastapi-0.117.1-py3-none-any.whl.metadata\n",
      "  Using cached fastapi-0.117.1-py3-none-any.whl.metadata (28 kB)\n",
      "Requirement already satisfied: uvicorn>=0.17.6 in c:\\users\\user\\appdata\\local\\programs\\python\\python311\\lib\\site-packages (from pycaret[full]) (0.36.0)\n",
      "Requirement already satisfied: m2cgen>=0.9.0 in c:\\users\\user\\appdata\\local\\programs\\python\\python311\\lib\\site-packages (from pycaret[full]) (0.10.0)\n",
      "Collecting evidently~=0.4.16 (from pycaret[full])\n",
      "  Obtaining dependency information for evidently~=0.4.16 from https://files.pythonhosted.org/packages/a6/19/f37d8c0db248b3e5f8e2f7a1d238debbc1052c89c6a1821f14567bd26e08/evidently-0.4.40-py3-none-any.whl.metadata\n",
      "  Using cached evidently-0.4.40-py3-none-any.whl.metadata (11 kB)\n",
      "Collecting dask>=2024.4.1 (from pycaret[full])\n",
      "  Obtaining dependency information for dask>=2024.4.1 from https://files.pythonhosted.org/packages/25/60/3fcd548bed6d25016933e4b2984c9b82e4c1e760380e03d4100b1b4726e0/dask-2025.9.1-py3-none-any.whl.metadata\n",
      "  Using cached dask-2025.9.1-py3-none-any.whl.metadata (3.8 kB)\n",
      "Collecting distributed>=2024.4.1 (from pycaret[full])\n",
      "  Obtaining dependency information for distributed>=2024.4.1 from https://files.pythonhosted.org/packages/10/76/486da90111ae15daf88a25e464e271575de4197c331cca4d41c9c5db8bf4/distributed-2025.9.1-py3-none-any.whl.metadata\n",
      "  Using cached distributed-2025.9.1-py3-none-any.whl.metadata (3.4 kB)\n",
      "Collecting fugue~=0.8.0 (from pycaret[full])\n",
      "  Obtaining dependency information for fugue~=0.8.0 from https://files.pythonhosted.org/packages/ae/47/d3449da0b9cad85a361bc1003554710a5b612cf60bc2840096e93e5cdbb3/fugue-0.8.7-py3-none-any.whl.metadata\n",
      "  Using cached fugue-0.8.7-py3-none-any.whl.metadata (17 kB)\n",
      "Requirement already satisfied: flask in c:\\users\\user\\appdata\\local\\programs\\python\\python311\\lib\\site-packages (from pycaret[full]) (3.1.2)\n",
      "Requirement already satisfied: Werkzeug<3.0,>=2.2 in c:\\users\\user\\appdata\\local\\programs\\python\\python311\\lib\\site-packages (from pycaret[full]) (2.3.8)\n",
      "Requirement already satisfied: pytest<8.0.0 in c:\\users\\user\\appdata\\local\\programs\\python\\python311\\lib\\site-packages (from pycaret[full]) (7.4.4)\n",
      "Collecting moto<5.0.0 (from pycaret[full])\n",
      "  Obtaining dependency information for moto<5.0.0 from https://files.pythonhosted.org/packages/51/0f/ef410e6660d381e04cb6f33065d03b3aefd3444d558fcdd41ef235a1802c/moto-4.2.14-py2.py3-none-any.whl.metadata\n",
      "  Using cached moto-4.2.14-py2.py3-none-any.whl.metadata (12 kB)\n",
      "Collecting fugue[dask] (from pycaret[full])\n",
      "  Obtaining dependency information for fugue[dask] from https://files.pythonhosted.org/packages/ec/38/46a0ef179f7279207a3263afeb8da4dd73f44d00b6cc999c96a39112d284/fugue-0.9.1-py3-none-any.whl.metadata\n",
      "  Using cached fugue-0.9.1-py3-none-any.whl.metadata (18 kB)\n",
      "Requirement already satisfied: dash[testing] in c:\\users\\user\\appdata\\local\\programs\\python\\python311\\lib\\site-packages (from pycaret[full]) (3.2.0)\n",
      "Collecting scikit-learn-intelex>=2023.0.1 (from pycaret[full])\n",
      "  Obtaining dependency information for scikit-learn-intelex>=2023.0.1 from https://files.pythonhosted.org/packages/b6/f3/3ed80d8724a037d1b3754ce4a5851c407c9bfb8b4471ea464d569e353d50/scikit_learn_intelex-2025.8.0-py311-none-win_amd64.whl.metadata\n",
      "  Using cached scikit_learn_intelex-2025.8.0-py311-none-win_amd64.whl.metadata (11 kB)\n",
      "Collecting catboost>=0.23.2 (from pycaret[full])\n",
      "  Obtaining dependency information for catboost>=0.23.2 from https://files.pythonhosted.org/packages/0e/91/e60d80ce72e5fce94fa672908b1f7ffb881701027130b7d637bb6b6561a4/catboost-1.2.8-cp311-cp311-win_amd64.whl.metadata\n",
      "  Using cached catboost-1.2.8-cp311-cp311-win_amd64.whl.metadata (1.5 kB)\n",
      "Requirement already satisfied: packaging in c:\\users\\user\\appdata\\local\\programs\\python\\python311\\lib\\site-packages (from sktime==0.26.0->pycaret[full]) (24.2)\n",
      "Requirement already satisfied: scikit-base<0.8.0 in c:\\users\\user\\appdata\\local\\programs\\python\\python311\\lib\\site-packages (from sktime==0.26.0->pycaret[full]) (0.7.8)\n",
      "Requirement already satisfied: greenlet>=1 in c:\\users\\user\\appdata\\local\\programs\\python\\python311\\lib\\site-packages (from sqlalchemy) (3.2.4)\n",
      "Requirement already satisfied: typing-extensions>=4.6.0 in c:\\users\\user\\appdata\\local\\programs\\python\\python311\\lib\\site-packages (from sqlalchemy) (4.15.0)\n",
      "Collecting botocore<1.41.0,>=1.40.35 (from boto3>=1.24.56->pycaret[full])\n",
      "  Obtaining dependency information for botocore<1.41.0,>=1.40.35 from https://files.pythonhosted.org/packages/42/f4/9942dfb01a8a849daac34b15d5b7ca994c52ef131db2fa3f6e6995f61e0a/botocore-1.40.35-py3-none-any.whl.metadata\n",
      "  Using cached botocore-1.40.35-py3-none-any.whl.metadata (5.7 kB)\n",
      "Requirement already satisfied: jmespath<2.0.0,>=0.7.1 in c:\\users\\user\\appdata\\local\\programs\\python\\python311\\lib\\site-packages (from boto3>=1.24.56->pycaret[full]) (1.0.1)\n",
      "Collecting s3transfer<0.15.0,>=0.14.0 (from boto3>=1.24.56->pycaret[full])\n",
      "  Obtaining dependency information for s3transfer<0.15.0,>=0.14.0 from https://files.pythonhosted.org/packages/48/f0/ae7ca09223a81a1d890b2557186ea015f6e0502e9b8cb8e1813f1d8cfa4e/s3transfer-0.14.0-py3-none-any.whl.metadata\n",
      "  Using cached s3transfer-0.14.0-py3-none-any.whl.metadata (1.7 kB)\n",
      "Requirement already satisfied: graphviz in c:\\users\\user\\appdata\\local\\programs\\python\\python311\\lib\\site-packages (from catboost>=0.23.2->pycaret[full]) (0.21)\n",
      "Requirement already satisfied: six in c:\\users\\user\\appdata\\local\\programs\\python\\python311\\lib\\site-packages (from catboost>=0.23.2->pycaret[full]) (1.17.0)\n",
      "Requirement already satisfied: patsy>=0.5.1 in c:\\users\\user\\appdata\\local\\programs\\python\\python311\\lib\\site-packages (from category-encoders>=2.4.0->pycaret[full]) (1.0.1)\n",
      "Requirement already satisfied: click>=8.1 in c:\\users\\user\\appdata\\local\\programs\\python\\python311\\lib\\site-packages (from dask>=2024.4.1->pycaret[full]) (8.2.1)\n",
      "Requirement already satisfied: fsspec>=2021.09.0 in c:\\users\\user\\appdata\\local\\programs\\python\\python311\\lib\\site-packages (from dask>=2024.4.1->pycaret[full]) (2025.9.0)\n",
      "Requirement already satisfied: partd>=1.4.0 in c:\\users\\user\\appdata\\local\\programs\\python\\python311\\lib\\site-packages (from dask>=2024.4.1->pycaret[full]) (1.4.2)\n",
      "Requirement already satisfied: toolz>=0.10.0 in c:\\users\\user\\appdata\\local\\programs\\python\\python311\\lib\\site-packages (from dask>=2024.4.1->pycaret[full]) (1.0.0)\n",
      "Requirement already satisfied: locket>=1.0.0 in c:\\users\\user\\appdata\\local\\programs\\python\\python311\\lib\\site-packages (from distributed>=2024.4.1->pycaret[full]) (1.0.0)\n",
      "Requirement already satisfied: msgpack>=1.0.2 in c:\\users\\user\\appdata\\local\\programs\\python\\python311\\lib\\site-packages (from distributed>=2024.4.1->pycaret[full]) (1.1.1)\n",
      "Requirement already satisfied: sortedcontainers>=2.0.5 in c:\\users\\user\\appdata\\local\\programs\\python\\python311\\lib\\site-packages (from distributed>=2024.4.1->pycaret[full]) (2.4.0)\n",
      "Requirement already satisfied: tblib>=1.6.0 in c:\\users\\user\\appdata\\local\\programs\\python\\python311\\lib\\site-packages (from distributed>=2024.4.1->pycaret[full]) (3.1.0)\n",
      "Requirement already satisfied: tornado>=6.2.0 in c:\\users\\user\\appdata\\local\\programs\\python\\python311\\lib\\site-packages (from distributed>=2024.4.1->pycaret[full]) (6.5.2)\n",
      "Requirement already satisfied: urllib3>=1.26.5 in c:\\users\\user\\appdata\\local\\programs\\python\\python311\\lib\\site-packages (from distributed>=2024.4.1->pycaret[full]) (1.26.20)\n",
      "Requirement already satisfied: zict>=3.0.0 in c:\\users\\user\\appdata\\local\\programs\\python\\python311\\lib\\site-packages (from distributed>=2024.4.1->pycaret[full]) (3.0.0)\n",
      "Collecting nltk>=3.6.7 (from evidently~=0.4.16->pycaret[full])\n",
      "  Obtaining dependency information for nltk>=3.6.7 from https://files.pythonhosted.org/packages/4d/66/7d9e26593edda06e8cb531874633f7c2372279c3b0f46235539fe546df8b/nltk-3.9.1-py3-none-any.whl.metadata\n",
      "  Using cached nltk-3.9.1-py3-none-any.whl.metadata (2.9 kB)\n",
      "Requirement already satisfied: pydantic>=1.10.13 in c:\\users\\user\\appdata\\local\\programs\\python\\python311\\lib\\site-packages (from evidently~=0.4.16->pycaret[full]) (2.11.9)\n",
      "Collecting litestar>=2.8.3 (from evidently~=0.4.16->pycaret[full])\n",
      "  Obtaining dependency information for litestar>=2.8.3 from https://files.pythonhosted.org/packages/52/04/0935667c3cee2a26152102b9319fdfe987b0f765e14e0311c17ca6698820/litestar-2.17.0-py3-none-any.whl.metadata\n",
      "  Using cached litestar-2.17.0-py3-none-any.whl.metadata (26 kB)\n",
      "Requirement already satisfied: typing-inspect>=0.9.0 in c:\\users\\user\\appdata\\local\\programs\\python\\python311\\lib\\site-packages (from evidently~=0.4.16->pycaret[full]) (0.9.0)\n",
      "Requirement already satisfied: watchdog>=3.0.0 in c:\\users\\user\\appdata\\local\\programs\\python\\python311\\lib\\site-packages (from evidently~=0.4.16->pycaret[full]) (6.0.0)\n",
      "Collecting typer>=0.3 (from evidently~=0.4.16->pycaret[full])\n",
      "  Obtaining dependency information for typer>=0.3 from https://files.pythonhosted.org/packages/1e/fa/6473c00b5eb26a2ba427813107699d3e6f4e1a4afad3f7494b17bdef3422/typer-0.19.1-py3-none-any.whl.metadata\n",
      "  Using cached typer-0.19.1-py3-none-any.whl.metadata (16 kB)\n",
      "Requirement already satisfied: rich>=13 in c:\\users\\user\\appdata\\local\\programs\\python\\python311\\lib\\site-packages (from evidently~=0.4.16->pycaret[full]) (14.1.0)\n",
      "Collecting iterative-telemetry>=0.0.5 (from evidently~=0.4.16->pycaret[full])\n",
      "  Obtaining dependency information for iterative-telemetry>=0.0.5 from https://files.pythonhosted.org/packages/1a/82/7331bbf84f1ccce7a2dd09a580c7bad38417cf35c84dc0b81bce2cf779b9/iterative_telemetry-0.0.10-py3-none-any.whl.metadata\n",
      "  Using cached iterative_telemetry-0.0.10-py3-none-any.whl.metadata (4.1 kB)\n",
      "Requirement already satisfied: dynaconf>=3.2.4 in c:\\users\\user\\appdata\\local\\programs\\python\\python311\\lib\\site-packages (from evidently~=0.4.16->pycaret[full]) (3.2.11)\n",
      "Requirement already satisfied: certifi>=2024.7.4 in c:\\users\\user\\appdata\\local\\programs\\python\\python311\\lib\\site-packages (from evidently~=0.4.16->pycaret[full]) (2025.8.3)\n",
      "Requirement already satisfied: ujson>=5.4.0 in c:\\users\\user\\appdata\\local\\programs\\python\\python311\\lib\\site-packages (from evidently~=0.4.16->pycaret[full]) (5.11.0)\n",
      "Requirement already satisfied: uuid6>=2024.7.10 in c:\\users\\user\\appdata\\local\\programs\\python\\python311\\lib\\site-packages (from evidently~=0.4.16->pycaret[full]) (2025.0.1)\n",
      "Collecting cryptography>=43.0.1 (from evidently~=0.4.16->pycaret[full])\n",
      "  Obtaining dependency information for cryptography>=43.0.1 from https://files.pythonhosted.org/packages/95/0f/cd29a35e0d6e78a0ee61793564c8cff0929c38391cb0de27627bdc7525aa/cryptography-46.0.1-cp311-abi3-win_amd64.whl.metadata\n",
      "  Using cached cryptography-46.0.1-cp311-abi3-win_amd64.whl.metadata (5.7 kB)\n",
      "Collecting dash-auth (from explainerdashboard>=0.3.8->pycaret[full])\n",
      "  Obtaining dependency information for dash-auth from https://files.pythonhosted.org/packages/19/42/d636affcd8074f7f48156a99d8854e5be951d8601dcb4178231c92c988d1/dash_auth-2.3.0-py3-none-any.whl.metadata\n",
      "  Using cached dash_auth-2.3.0-py3-none-any.whl.metadata (10 kB)\n",
      "Collecting dash-bootstrap-components<3,>=1 (from explainerdashboard>=0.3.8->pycaret[full])\n",
      "  Obtaining dependency information for dash-bootstrap-components<3,>=1 from https://files.pythonhosted.org/packages/d6/38/1efeec8b4d741c09ccd169baf8a00c07a0176b58e418d4cd0c30dffedd22/dash_bootstrap_components-2.0.4-py3-none-any.whl.metadata\n",
      "  Using cached dash_bootstrap_components-2.0.4-py3-none-any.whl.metadata (18 kB)\n",
      "Collecting dash<3,>=2.10 (from explainerdashboard>=0.3.8->pycaret[full])\n",
      "  Obtaining dependency information for dash<3,>=2.10 from https://files.pythonhosted.org/packages/72/ef/d46131f4817f18b329e4fb7c53ba1d31774239d91266a74bccdc932708cc/dash-2.18.2-py3-none-any.whl.metadata\n",
      "  Using cached dash-2.18.2-py3-none-any.whl.metadata (10 kB)\n",
      "Collecting dtreeviz>=2.1 (from explainerdashboard>=0.3.8->pycaret[full])\n",
      "  Obtaining dependency information for dtreeviz>=2.1 from https://files.pythonhosted.org/packages/b3/e8/44eb59345d8ba9d2f6610df6441d63082f46021c1685de24716c22f55383/dtreeviz-2.2.2-py3-none-any.whl.metadata\n",
      "  Using cached dtreeviz-2.2.2-py3-none-any.whl.metadata (2.4 kB)\n",
      "Collecting flask-simplelogin (from explainerdashboard>=0.3.8->pycaret[full])\n",
      "  Obtaining dependency information for flask-simplelogin from https://files.pythonhosted.org/packages/96/dc/645e9fd39cd24a3d4c2279cd99faaa0bb50001184f458cf8a19eccec524f/flask_simplelogin-0.2.0-py3-none-any.whl.metadata\n",
      "  Using cached flask_simplelogin-0.2.0-py3-none-any.whl.metadata (3.3 kB)\n",
      "Collecting flask-wtf>=1.1 (from explainerdashboard>=0.3.8->pycaret[full])\n",
      "  Obtaining dependency information for flask-wtf>=1.1 from https://files.pythonhosted.org/packages/dc/19/354449145fbebb65e7c621235b6ad69bebcfaec2142481f044d0ddc5b5c5/flask_wtf-1.2.2-py3-none-any.whl.metadata\n",
      "  Using cached flask_wtf-1.2.2-py3-none-any.whl.metadata (3.4 kB)\n",
      "Collecting jupyter-dash>=0.4.1 (from explainerdashboard>=0.3.8->pycaret[full])\n",
      "  Obtaining dependency information for jupyter-dash>=0.4.1 from https://files.pythonhosted.org/packages/38/62/2c51aeb18c6d765c03c911e4d70f029ccb9de1a991d88cf30e362d2433c9/jupyter_dash-0.4.2-py3-none-any.whl.metadata\n",
      "  Using cached jupyter_dash-0.4.2-py3-none-any.whl.metadata (3.6 kB)\n",
      "Requirement already satisfied: oyaml in c:\\users\\user\\appdata\\local\\programs\\python\\python311\\lib\\site-packages (from explainerdashboard>=0.3.8->pycaret[full]) (1.0)\n",
      "Requirement already satisfied: waitress in c:\\users\\user\\appdata\\local\\programs\\python\\python311\\lib\\site-packages (from explainerdashboard>=0.3.8->pycaret[full]) (3.0.2)\n",
      "Collecting triad>=0.9.3 (from fugue~=0.8.0->pycaret[full])\n",
      "  Obtaining dependency information for triad>=0.9.3 from https://files.pythonhosted.org/packages/4f/c6/4aedce0522bb3c72f2d770e7e4c18b0e1f7716d2c70a865e94c89ebcf7e6/triad-0.9.8-py3-none-any.whl.metadata\n",
      "  Using cached triad-0.9.8-py3-none-any.whl.metadata (6.3 kB)\n",
      "Collecting adagio>=0.2.4 (from fugue~=0.8.0->pycaret[full])\n",
      "  Obtaining dependency information for adagio>=0.2.4 from https://files.pythonhosted.org/packages/f4/40/3592ba5232475778ab690cdbfbc38e73886c26c361a82484b49fab427e60/adagio-0.2.6-py3-none-any.whl.metadata\n",
      "  Using cached adagio-0.2.6-py3-none-any.whl.metadata (1.8 kB)\n",
      "Collecting qpd>=0.4.4 (from fugue~=0.8.0->pycaret[full])\n",
      "  Obtaining dependency information for qpd>=0.4.4 from https://files.pythonhosted.org/packages/56/1f/909bff3b693dc50e0e4318922a93d3047c948acd3011a8c39665cc125d19/qpd-0.4.4-py3-none-any.whl.metadata\n",
      "  Using cached qpd-0.4.4-py3-none-any.whl.metadata (6.4 kB)\n",
      "Collecting fugue-sql-antlr>=0.1.6 (from fugue~=0.8.0->pycaret[full])\n",
      "  Using cached fugue_sql_antlr-0.2.2-py3-none-any.whl\n",
      "Requirement already satisfied: sqlglot in c:\\users\\user\\appdata\\local\\programs\\python\\python311\\lib\\site-packages (from fugue~=0.8.0->pycaret[full]) (27.16.3)\n",
      "Requirement already satisfied: aiofiles<25.0,>=22.0 in c:\\users\\user\\appdata\\local\\programs\\python\\python311\\lib\\site-packages (from gradio>=3.50.2->pycaret[full]) (24.1.0)\n",
      "Requirement already satisfied: anyio<5.0,>=3.0 in c:\\users\\user\\appdata\\local\\programs\\python\\python311\\lib\\site-packages (from gradio>=3.50.2->pycaret[full]) (4.10.0)\n",
      "Requirement already satisfied: brotli>=1.1.0 in c:\\users\\user\\appdata\\local\\programs\\python\\python311\\lib\\site-packages (from gradio>=3.50.2->pycaret[full]) (1.1.0)\n",
      "Requirement already satisfied: ffmpy in c:\\users\\user\\appdata\\local\\programs\\python\\python311\\lib\\site-packages (from gradio>=3.50.2->pycaret[full]) (0.6.1)\n",
      "Collecting gradio-client==1.13.1 (from gradio>=3.50.2->pycaret[full])\n",
      "  Obtaining dependency information for gradio-client==1.13.1 from https://files.pythonhosted.org/packages/9a/02/dd4ecbcf654abc4b969f84def5735b7570224e9590912523b9f3eaf0d741/gradio_client-1.13.1-py3-none-any.whl.metadata\n",
      "  Using cached gradio_client-1.13.1-py3-none-any.whl.metadata (7.1 kB)\n",
      "Requirement already satisfied: groovy~=0.1 in c:\\users\\user\\appdata\\local\\programs\\python\\python311\\lib\\site-packages (from gradio>=3.50.2->pycaret[full]) (0.1.2)\n",
      "Requirement already satisfied: httpx<1.0,>=0.24.1 in c:\\users\\user\\appdata\\local\\programs\\python\\python311\\lib\\site-packages (from gradio>=3.50.2->pycaret[full]) (0.28.1)\n",
      "Collecting huggingface-hub<1.0,>=0.33.5 (from gradio>=3.50.2->pycaret[full])\n",
      "  Obtaining dependency information for huggingface-hub<1.0,>=0.33.5 from https://files.pythonhosted.org/packages/fe/85/a18508becfa01f1e4351b5e18651b06d210dbd96debccd48a452acccb901/huggingface_hub-0.35.0-py3-none-any.whl.metadata\n",
      "  Using cached huggingface_hub-0.35.0-py3-none-any.whl.metadata (14 kB)\n",
      "Requirement already satisfied: orjson~=3.0 in c:\\users\\user\\appdata\\local\\programs\\python\\python311\\lib\\site-packages (from gradio>=3.50.2->pycaret[full]) (3.11.3)\n",
      "Requirement already satisfied: pillow<12.0,>=8.0 in c:\\users\\user\\appdata\\local\\programs\\python\\python311\\lib\\site-packages (from gradio>=3.50.2->pycaret[full]) (11.3.0)\n",
      "Requirement already satisfied: pydub in c:\\users\\user\\appdata\\local\\programs\\python\\python311\\lib\\site-packages (from gradio>=3.50.2->pycaret[full]) (0.25.1)\n",
      "Requirement already satisfied: python-multipart>=0.0.18 in c:\\users\\user\\appdata\\local\\programs\\python\\python311\\lib\\site-packages (from gradio>=3.50.2->pycaret[full]) (0.0.20)\n",
      "Requirement already satisfied: ruff>=0.9.3 in c:\\users\\user\\appdata\\local\\programs\\python\\python311\\lib\\site-packages (from gradio>=3.50.2->pycaret[full]) (0.13.1)\n",
      "Collecting safehttpx<0.2.0,>=0.1.6 (from gradio>=3.50.2->pycaret[full])\n",
      "  Obtaining dependency information for safehttpx<0.2.0,>=0.1.6 from https://files.pythonhosted.org/packages/4d/c0/1108ad9f01567f66b3154063605b350b69c3c9366732e09e45f9fd0d1deb/safehttpx-0.1.6-py3-none-any.whl.metadata\n",
      "  Using cached safehttpx-0.1.6-py3-none-any.whl.metadata (4.2 kB)\n",
      "Requirement already satisfied: semantic-version~=2.0 in c:\\users\\user\\appdata\\local\\programs\\python\\python311\\lib\\site-packages (from gradio>=3.50.2->pycaret[full]) (2.10.0)\n",
      "Requirement already satisfied: starlette<1.0,>=0.40.0 in c:\\users\\user\\appdata\\local\\programs\\python\\python311\\lib\\site-packages (from gradio>=3.50.2->pycaret[full]) (0.48.0)\n",
      "Requirement already satisfied: tomlkit<0.14.0,>=0.12.0 in c:\\users\\user\\appdata\\local\\programs\\python\\python311\\lib\\site-packages (from gradio>=3.50.2->pycaret[full]) (0.13.3)\n",
      "Requirement already satisfied: websockets<16.0,>=10.0 in c:\\users\\user\\appdata\\local\\programs\\python\\python311\\lib\\site-packages (from gradio-client==1.13.1->gradio>=3.50.2->pycaret[full]) (15.0.1)\n",
      "Requirement already satisfied: networkx>=2.2 in c:\\users\\user\\appdata\\local\\programs\\python\\python311\\lib\\site-packages (from hyperopt>=0.2.7->pycaret[full]) (3.5)\n",
      "Requirement already satisfied: future in c:\\users\\user\\appdata\\local\\programs\\python\\python311\\lib\\site-packages (from hyperopt>=0.2.7->pycaret[full]) (1.0.0)\n",
      "Requirement already satisfied: py4j in c:\\users\\user\\appdata\\local\\programs\\python\\python311\\lib\\site-packages (from hyperopt>=0.2.7->pycaret[full]) (0.10.9.9)\n",
      "Requirement already satisfied: threadpoolctl<4,>=2.0.0 in c:\\users\\user\\appdata\\local\\programs\\python\\python311\\lib\\site-packages (from imbalanced-learn>=0.12.0->pycaret[full]) (3.6.0)\n",
      "Requirement already satisfied: zipp>=3.20 in c:\\users\\user\\appdata\\local\\programs\\python\\python311\\lib\\site-packages (from importlib-metadata>=4.12.0->pycaret[full]) (3.23.0)\n",
      "Collecting interpret-core[aplr,dash,debug,linear,notebook,plotly,sensitivity,shap]==0.7.2 (from interpret>=0.2.7->pycaret[full])\n",
      "  Obtaining dependency information for interpret-core[aplr,dash,debug,linear,notebook,plotly,sensitivity,shap]==0.7.2 from https://files.pythonhosted.org/packages/9d/a7/8b3de4f7a739b6728dee6fd7460464ab6f9a41f2ca08f52fdf9b7f9d8261/interpret_core-0.7.2-py3-none-any.whl.metadata\n",
      "  Using cached interpret_core-0.7.2-py3-none-any.whl.metadata (3.0 kB)\n",
      "Requirement already satisfied: ipykernel>=4.10.0 in c:\\users\\user\\appdata\\local\\programs\\python\\python311\\lib\\site-packages (from interpret-core[aplr,dash,debug,linear,notebook,plotly,sensitivity,shap]==0.7.2->interpret>=0.2.7->pycaret[full]) (6.30.1)\n",
      "Collecting SALib>=1.3.3 (from interpret-core[aplr,dash,debug,linear,notebook,plotly,sensitivity,shap]==0.7.2->interpret>=0.2.7->pycaret[full])\n",
      "  Obtaining dependency information for SALib>=1.3.3 from https://files.pythonhosted.org/packages/e1/40/393b381779d379afbb0e281d9f69cb511022e41a726f7871a929faec2b11/salib-1.5.1-py3-none-any.whl.metadata\n",
      "  Using cached salib-1.5.1-py3-none-any.whl.metadata (11 kB)\n",
      "Requirement already satisfied: dill>=0.2.5 in c:\\users\\user\\appdata\\local\\programs\\python\\python311\\lib\\site-packages (from interpret-core[aplr,dash,debug,linear,notebook,plotly,sensitivity,shap]==0.7.2->interpret>=0.2.7->pycaret[full]) (0.4.0)\n",
      "Requirement already satisfied: aplr>=10.6.1 in c:\\users\\user\\appdata\\local\\programs\\python\\python311\\lib\\site-packages (from interpret-core[aplr,dash,debug,linear,notebook,plotly,sensitivity,shap]==0.7.2->interpret>=0.2.7->pycaret[full]) (10.12.0)\n",
      "Collecting dash-cytoscape>=0.1.1 (from interpret-core[aplr,dash,debug,linear,notebook,plotly,sensitivity,shap]==0.7.2->interpret>=0.2.7->pycaret[full])\n",
      "  Using cached dash_cytoscape-1.0.2-py3-none-any.whl\n",
      "Collecting gevent>=1.3.6 (from interpret-core[aplr,dash,debug,linear,notebook,plotly,sensitivity,shap]==0.7.2->interpret>=0.2.7->pycaret[full])\n",
      "  Obtaining dependency information for gevent>=1.3.6 from https://files.pythonhosted.org/packages/1d/6c/bb21fd9c095506aeeaa616579a356aa50935165cc0f1e250e1e0575620a7/gevent-25.9.1-cp311-cp311-win_amd64.whl.metadata\n",
      "  Using cached gevent-25.9.1-cp311-cp311-win_amd64.whl.metadata (14 kB)\n",
      "Requirement already satisfied: colorama in c:\\users\\user\\appdata\\local\\programs\\python\\python311\\lib\\site-packages (from ipython>=5.5.0->pycaret[full]) (0.4.6)\n",
      "Requirement already satisfied: decorator in c:\\users\\user\\appdata\\local\\programs\\python\\python311\\lib\\site-packages (from ipython>=5.5.0->pycaret[full]) (5.2.1)\n",
      "Requirement already satisfied: ipython-pygments-lexers in c:\\users\\user\\appdata\\local\\programs\\python\\python311\\lib\\site-packages (from ipython>=5.5.0->pycaret[full]) (1.1.1)\n",
      "Requirement already satisfied: jedi>=0.16 in c:\\users\\user\\appdata\\local\\programs\\python\\python311\\lib\\site-packages (from ipython>=5.5.0->pycaret[full]) (0.19.2)\n",
      "Requirement already satisfied: matplotlib-inline in c:\\users\\user\\appdata\\local\\programs\\python\\python311\\lib\\site-packages (from ipython>=5.5.0->pycaret[full]) (0.1.7)\n",
      "Requirement already satisfied: prompt_toolkit<3.1.0,>=3.0.41 in c:\\users\\user\\appdata\\local\\programs\\python\\python311\\lib\\site-packages (from ipython>=5.5.0->pycaret[full]) (3.0.52)\n",
      "Requirement already satisfied: pygments>=2.4.0 in c:\\users\\user\\appdata\\local\\programs\\python\\python311\\lib\\site-packages (from ipython>=5.5.0->pycaret[full]) (2.19.2)\n",
      "Requirement already satisfied: stack_data in c:\\users\\user\\appdata\\local\\programs\\python\\python311\\lib\\site-packages (from ipython>=5.5.0->pycaret[full]) (0.6.3)\n",
      "Requirement already satisfied: traitlets>=5.13.0 in c:\\users\\user\\appdata\\local\\programs\\python\\python311\\lib\\site-packages (from ipython>=5.5.0->pycaret[full]) (5.14.3)\n",
      "Requirement already satisfied: comm>=0.1.3 in c:\\users\\user\\appdata\\local\\programs\\python\\python311\\lib\\site-packages (from ipywidgets>=7.6.5->pycaret[full]) (0.2.3)\n",
      "Requirement already satisfied: widgetsnbextension~=4.0.14 in c:\\users\\user\\appdata\\local\\programs\\python\\python311\\lib\\site-packages (from ipywidgets>=7.6.5->pycaret[full]) (4.0.14)\n",
      "Requirement already satisfied: jupyterlab_widgets~=3.0.15 in c:\\users\\user\\appdata\\local\\programs\\python\\python311\\lib\\site-packages (from ipywidgets>=7.6.5->pycaret[full]) (3.0.15)\n",
      "Requirement already satisfied: choreographer>=1.0.10 in c:\\users\\user\\appdata\\local\\programs\\python\\python311\\lib\\site-packages (from kaleido>=0.2.1->pycaret[full]) (1.1.1)\n",
      "Requirement already satisfied: logistro>=1.0.8 in c:\\users\\user\\appdata\\local\\programs\\python\\python311\\lib\\site-packages (from kaleido>=0.2.1->pycaret[full]) (1.1.0)\n",
      "Requirement already satisfied: pytest-timeout>=2.4.0 in c:\\users\\user\\appdata\\local\\programs\\python\\python311\\lib\\site-packages (from kaleido>=0.2.1->pycaret[full]) (2.4.0)\n",
      "Requirement already satisfied: contourpy>=1.0.1 in c:\\users\\user\\appdata\\local\\programs\\python\\python311\\lib\\site-packages (from matplotlib<3.8.0->pycaret[full]) (1.3.3)\n",
      "Requirement already satisfied: cycler>=0.10 in c:\\users\\user\\appdata\\local\\programs\\python\\python311\\lib\\site-packages (from matplotlib<3.8.0->pycaret[full]) (0.12.1)\n",
      "Requirement already satisfied: fonttools>=4.22.0 in c:\\users\\user\\appdata\\local\\programs\\python\\python311\\lib\\site-packages (from matplotlib<3.8.0->pycaret[full]) (4.59.2)\n",
      "Requirement already satisfied: kiwisolver>=1.0.1 in c:\\users\\user\\appdata\\local\\programs\\python\\python311\\lib\\site-packages (from matplotlib<3.8.0->pycaret[full]) (1.4.9)\n",
      "Requirement already satisfied: pyparsing>=2.3.1 in c:\\users\\user\\appdata\\local\\programs\\python\\python311\\lib\\site-packages (from matplotlib<3.8.0->pycaret[full]) (3.2.3)\n",
      "Requirement already satisfied: python-dateutil>=2.7 in c:\\users\\user\\appdata\\local\\programs\\python\\python311\\lib\\site-packages (from matplotlib<3.8.0->pycaret[full]) (2.9.0.post0)\n",
      "Collecting mlflow-skinny==3.4.0 (from mlflow>=2.0.0->pycaret[full])\n",
      "  Obtaining dependency information for mlflow-skinny==3.4.0 from https://files.pythonhosted.org/packages/1b/94/7acd7c6970cc75da1fd3b550e43d8b99068032022f47b0ef224a137ec679/mlflow_skinny-3.4.0-py3-none-any.whl.metadata\n",
      "  Using cached mlflow_skinny-3.4.0-py3-none-any.whl.metadata (31 kB)\n",
      "Collecting mlflow-tracing==3.4.0 (from mlflow>=2.0.0->pycaret[full])\n",
      "  Obtaining dependency information for mlflow-tracing==3.4.0 from https://files.pythonhosted.org/packages/ae/96/403b1191ccf587f19a8c94085477600d6e6b3d61a7aff46f353b20b450f9/mlflow_tracing-3.4.0-py3-none-any.whl.metadata\n",
      "  Using cached mlflow_tracing-3.4.0-py3-none-any.whl.metadata (19 kB)\n",
      "Collecting alembic!=1.10.0,<2 (from mlflow>=2.0.0->pycaret[full])\n",
      "  Obtaining dependency information for alembic!=1.10.0,<2 from https://files.pythonhosted.org/packages/39/4a/4c61d4c84cfd9befb6fa08a702535b27b21fff08c946bc2f6139decbf7f7/alembic-1.16.5-py3-none-any.whl.metadata\n",
      "  Using cached alembic-1.16.5-py3-none-any.whl.metadata (7.3 kB)\n",
      "Collecting cryptography>=43.0.1 (from evidently~=0.4.16->pycaret[full])\n",
      "  Obtaining dependency information for cryptography>=43.0.1 from https://files.pythonhosted.org/packages/b3/61/0ab90f421c6194705a99d0fa9f6ee2045d916e4455fdbb095a9c2c9a520f/cryptography-45.0.7-cp311-abi3-win_amd64.whl.metadata\n",
      "  Using cached cryptography-45.0.7-cp311-abi3-win_amd64.whl.metadata (5.7 kB)\n",
      "Collecting docker<8,>=4.0.0 (from mlflow>=2.0.0->pycaret[full])\n",
      "  Obtaining dependency information for docker<8,>=4.0.0 from https://files.pythonhosted.org/packages/e3/26/57c6fb270950d476074c087527a558ccb6f4436657314bfb6cdf484114c4/docker-7.1.0-py3-none-any.whl.metadata\n",
      "  Using cached docker-7.1.0-py3-none-any.whl.metadata (3.8 kB)\n",
      "Collecting fastmcp<3,>=2.0.0 (from mlflow>=2.0.0->pycaret[full])\n",
      "  Obtaining dependency information for fastmcp<3,>=2.0.0 from https://files.pythonhosted.org/packages/96/79/0fd386e61819e205563d4eb15da76564b80dc2edd3c64b46f2706235daec/fastmcp-2.12.3-py3-none-any.whl.metadata\n",
      "  Using cached fastmcp-2.12.3-py3-none-any.whl.metadata (17 kB)\n",
      "Collecting graphene<4 (from mlflow>=2.0.0->pycaret[full])\n",
      "  Obtaining dependency information for graphene<4 from https://files.pythonhosted.org/packages/66/e0/61d8e98007182e6b2aca7cf65904721fb2e4bce0192272ab9cb6f69d8812/graphene-3.4.3-py2.py3-none-any.whl.metadata\n",
      "  Using cached graphene-3.4.3-py2.py3-none-any.whl.metadata (6.9 kB)\n",
      "Requirement already satisfied: pyarrow<22,>=4.0.0 in c:\\users\\user\\appdata\\local\\programs\\python\\python311\\lib\\site-packages (from mlflow>=2.0.0->pycaret[full]) (21.0.0)\n",
      "Requirement already satisfied: cachetools<7,>=5.0.0 in c:\\users\\user\\appdata\\local\\programs\\python\\python311\\lib\\site-packages (from mlflow-skinny==3.4.0->mlflow>=2.0.0->pycaret[full]) (5.5.2)\n",
      "Collecting databricks-sdk<1,>=0.20.0 (from mlflow-skinny==3.4.0->mlflow>=2.0.0->pycaret[full])\n",
      "  Obtaining dependency information for databricks-sdk<1,>=0.20.0 from https://files.pythonhosted.org/packages/0e/70/4bd71d09b7d7f7bc9b4d0ceb20a020fd4f667d82aafc43e4d115bd41989e/databricks_sdk-0.65.0-py3-none-any.whl.metadata\n",
      "  Using cached databricks_sdk-0.65.0-py3-none-any.whl.metadata (39 kB)\n",
      "Requirement already satisfied: gitpython<4,>=3.1.9 in c:\\users\\user\\appdata\\local\\programs\\python\\python311\\lib\\site-packages (from mlflow-skinny==3.4.0->mlflow>=2.0.0->pycaret[full]) (3.1.45)\n",
      "Requirement already satisfied: opentelemetry-api<3,>=1.9.0 in c:\\users\\user\\appdata\\local\\programs\\python\\python311\\lib\\site-packages (from mlflow-skinny==3.4.0->mlflow>=2.0.0->pycaret[full]) (1.37.0)\n",
      "Requirement already satisfied: opentelemetry-proto<3,>=1.9.0 in c:\\users\\user\\appdata\\local\\programs\\python\\python311\\lib\\site-packages (from mlflow-skinny==3.4.0->mlflow>=2.0.0->pycaret[full]) (1.37.0)\n",
      "Collecting opentelemetry-sdk<3,>=1.9.0 (from mlflow-skinny==3.4.0->mlflow>=2.0.0->pycaret[full])\n",
      "  Obtaining dependency information for opentelemetry-sdk<3,>=1.9.0 from https://files.pythonhosted.org/packages/9f/62/9f4ad6a54126fb00f7ed4bb5034964c6e4f00fcd5a905e115bd22707e20d/opentelemetry_sdk-1.37.0-py3-none-any.whl.metadata\n",
      "  Using cached opentelemetry_sdk-1.37.0-py3-none-any.whl.metadata (1.5 kB)\n",
      "Requirement already satisfied: protobuf<7,>=3.12.0 in c:\\users\\user\\appdata\\local\\programs\\python\\python311\\lib\\site-packages (from mlflow-skinny==3.4.0->mlflow>=2.0.0->pycaret[full]) (6.32.0)\n",
      "Requirement already satisfied: python-dotenv<2,>=0.19.0 in c:\\users\\user\\appdata\\local\\programs\\python\\python311\\lib\\site-packages (from mlflow-skinny==3.4.0->mlflow>=2.0.0->pycaret[full]) (1.1.1)\n",
      "Requirement already satisfied: sqlparse<1,>=0.4.0 in c:\\users\\user\\appdata\\local\\programs\\python\\python311\\lib\\site-packages (from mlflow-skinny==3.4.0->mlflow>=2.0.0->pycaret[full]) (0.5.3)\n",
      "Requirement already satisfied: blinker>=1.9.0 in c:\\users\\user\\appdata\\local\\programs\\python\\python311\\lib\\site-packages (from flask->pycaret[full]) (1.9.0)\n",
      "Requirement already satisfied: itsdangerous>=2.2.0 in c:\\users\\user\\appdata\\local\\programs\\python\\python311\\lib\\site-packages (from flask->pycaret[full]) (2.2.0)\n",
      "INFO: pip is looking at multiple versions of flask to determine which version is compatible with other requirements. This could take a while.\n",
      "Collecting flask (from pycaret[full])\n",
      "  Obtaining dependency information for flask from https://files.pythonhosted.org/packages/3d/68/9d4508e893976286d2ead7f8f571314af6c2037af34853a30fd769c02e9d/flask-3.1.1-py3-none-any.whl.metadata\n",
      "  Using cached flask-3.1.1-py3-none-any.whl.metadata (3.0 kB)\n",
      "  Obtaining dependency information for flask from https://files.pythonhosted.org/packages/af/47/93213ee66ef8fae3b93b3e29206f6b251e65c97bd91d8e1c5596ef15af0a/flask-3.1.0-py3-none-any.whl.metadata\n",
      "  Using cached flask-3.1.0-py3-none-any.whl.metadata (2.7 kB)\n",
      "  Obtaining dependency information for flask from https://files.pythonhosted.org/packages/61/80/ffe1da13ad9300f87c93af113edd0638c75138c42a0994becfacac078c06/flask-3.0.3-py3-none-any.whl.metadata\n",
      "  Using cached flask-3.0.3-py3-none-any.whl.metadata (3.2 kB)\n",
      "  Obtaining dependency information for flask from https://files.pythonhosted.org/packages/93/a6/aa98bfe0eb9b8b15d36cdfd03c8ca86a03968a87f27ce224fb4f766acb23/flask-3.0.2-py3-none-any.whl.metadata\n",
      "  Using cached flask-3.0.2-py3-none-any.whl.metadata (3.6 kB)\n",
      "  Obtaining dependency information for flask from https://files.pythonhosted.org/packages/bd/0e/63738e88e981ae57c23bad6c499898314a1110a4141f77d7bd929b552fb4/flask-3.0.1-py3-none-any.whl.metadata\n",
      "  Using cached flask-3.0.1-py3-none-any.whl.metadata (3.6 kB)\n",
      "  Obtaining dependency information for flask from https://files.pythonhosted.org/packages/36/42/015c23096649b908c809c69388a805a571a3bea44362fe87e33fc3afa01f/flask-3.0.0-py3-none-any.whl.metadata\n",
      "  Using cached flask-3.0.0-py3-none-any.whl.metadata (3.6 kB)\n",
      "  Obtaining dependency information for flask from https://files.pythonhosted.org/packages/fd/56/26f0be8adc2b4257df20c1c4260ddd0aa396cf8e75d90ab2f7ff99bc34f9/flask-2.3.3-py3-none-any.whl.metadata\n",
      "  Using cached flask-2.3.3-py3-none-any.whl.metadata (3.6 kB)\n",
      "Requirement already satisfied: xmltodict in c:\\users\\user\\appdata\\local\\programs\\python\\python311\\lib\\site-packages (from moto<5.0.0->pycaret[full]) (1.0.2)\n",
      "Collecting responses>=0.13.0 (from moto<5.0.0->pycaret[full])\n",
      "  Obtaining dependency information for responses>=0.13.0 from https://files.pythonhosted.org/packages/1c/4c/cc276ce57e572c102d9542d383b2cfd551276581dc60004cb94fe8774c11/responses-0.25.8-py3-none-any.whl.metadata\n",
      "  Using cached responses-0.25.8-py3-none-any.whl.metadata (47 kB)\n",
      "Requirement already satisfied: fastjsonschema>=2.15 in c:\\users\\user\\appdata\\local\\programs\\python\\python311\\lib\\site-packages (from nbformat>=4.2.0->pycaret[full]) (2.21.2)\n",
      "Requirement already satisfied: jsonschema>=2.6 in c:\\users\\user\\appdata\\local\\programs\\python\\python311\\lib\\site-packages (from nbformat>=4.2.0->pycaret[full]) (4.25.1)\n",
      "Requirement already satisfied: jupyter-core!=5.0.*,>=4.12 in c:\\users\\user\\appdata\\local\\programs\\python\\python311\\lib\\site-packages (from nbformat>=4.2.0->pycaret[full]) (5.8.1)\n",
      "Collecting llvmlite<0.45,>=0.44.0dev0 (from numba>=0.55.0->pycaret[full])\n",
      "  Obtaining dependency information for llvmlite<0.45,>=0.44.0dev0 from https://files.pythonhosted.org/packages/5f/c6/258801143975a6d09a373f2641237992496e15567b907a4d401839d671b8/llvmlite-0.44.0-cp311-cp311-win_amd64.whl.metadata\n",
      "  Using cached llvmlite-0.44.0-cp311-cp311-win_amd64.whl.metadata (5.0 kB)\n",
      "Requirement already satisfied: colorlog in c:\\users\\user\\appdata\\local\\programs\\python\\python311\\lib\\site-packages (from optuna>=3.0.0->pycaret[full]) (6.9.0)\n",
      "Requirement already satisfied: pytz>=2020.1 in c:\\users\\user\\appdata\\local\\programs\\python\\python311\\lib\\site-packages (from pandas<2.2.0->pycaret[full]) (2025.2)\n",
      "Requirement already satisfied: tzdata>=2022.1 in c:\\users\\user\\appdata\\local\\programs\\python\\python311\\lib\\site-packages (from pandas<2.2.0->pycaret[full]) (2025.2)\n",
      "Requirement already satisfied: tenacity>=6.2.0 in c:\\users\\user\\appdata\\local\\programs\\python\\python311\\lib\\site-packages (from plotly>=5.14.0->pycaret[full]) (9.1.2)\n",
      "Requirement already satisfied: tsdownsample>=0.1.3 in c:\\users\\user\\appdata\\local\\programs\\python\\python311\\lib\\site-packages (from plotly-resampler>=0.8.3.1->pycaret[full]) (0.1.4.1)\n",
      "Requirement already satisfied: Cython!=0.29.18,!=0.29.31,>=0.29 in c:\\users\\user\\appdata\\local\\programs\\python\\python311\\lib\\site-packages (from pmdarima>=2.0.4->pycaret[full]) (3.1.4)\n",
      "Requirement already satisfied: setuptools!=50.0.0,>=38.6.0 in c:\\users\\user\\appdata\\local\\programs\\python\\python311\\lib\\site-packages (from pmdarima>=2.0.4->pycaret[full]) (80.9.0)\n",
      "Requirement already satisfied: iniconfig in c:\\users\\user\\appdata\\local\\programs\\python\\python311\\lib\\site-packages (from pytest<8.0.0->pycaret[full]) (2.1.0)\n",
      "Requirement already satisfied: pluggy<2.0,>=0.12 in c:\\users\\user\\appdata\\local\\programs\\python\\python311\\lib\\site-packages (from pytest<8.0.0->pycaret[full]) (1.5.0)\n",
      "Requirement already satisfied: charset_normalizer<4,>=2 in c:\\users\\user\\appdata\\local\\programs\\python\\python311\\lib\\site-packages (from requests>=2.27.1->pycaret[full]) (3.4.3)\n",
      "Requirement already satisfied: idna<4,>=2.5 in c:\\users\\user\\appdata\\local\\programs\\python\\python311\\lib\\site-packages (from requests>=2.27.1->pycaret[full]) (3.10)\n",
      "Collecting daal==2025.8.0 (from scikit-learn-intelex>=2023.0.1->pycaret[full])\n",
      "  Obtaining dependency information for daal==2025.8.0 from https://files.pythonhosted.org/packages/21/3a/afbc8738d91419a89acf314c6a2c165df22b881a54a4b1d1f9e03d5f7bce/daal-2025.8.0-py2.py3-none-win_amd64.whl.metadata\n",
      "  Using cached daal-2025.8.0-py2.py3-none-win_amd64.whl.metadata (1.1 kB)\n",
      "Requirement already satisfied: tbb==2022.* in c:\\users\\user\\appdata\\local\\programs\\python\\python311\\lib\\site-packages (from daal==2025.8.0->scikit-learn-intelex>=2023.0.1->pycaret[full]) (2022.2.0)\n",
      "Requirement already satisfied: tcmlib==1.* in c:\\users\\user\\appdata\\local\\programs\\python\\python311\\lib\\site-packages (from tbb==2022.*->daal==2025.8.0->scikit-learn-intelex>=2023.0.1->pycaret[full]) (1.4.0)\n",
      "Requirement already satisfied: pyaml>=16.9 in c:\\users\\user\\appdata\\local\\programs\\python\\python311\\lib\\site-packages (from scikit-optimize>=0.9.0->pycaret[full]) (25.7.0)\n",
      "Requirement already satisfied: slicer==0.0.7 in c:\\users\\user\\appdata\\local\\programs\\python\\python311\\lib\\site-packages (from shap~=0.44.0->pycaret[full]) (0.0.7)\n",
      "INFO: pip is looking at multiple versions of umap-learn to determine which version is compatible with other requirements. This could take a while.\n",
      "Collecting umap-learn>=0.5.2 (from pycaret[full])\n",
      "  Obtaining dependency information for umap-learn>=0.5.2 from https://files.pythonhosted.org/packages/68/5a/3fe95746301fe6d8a8cd59af06fa74599b24dc8077575ca5d3ef12988f61/umap_learn-0.5.8-py3-none-any.whl.metadata\n",
      "  Using cached umap_learn-0.5.8-py3-none-any.whl.metadata (23 kB)\n",
      "  Obtaining dependency information for umap-learn>=0.5.2 from https://files.pythonhosted.org/packages/3c/8f/671c0e1f2572ba625cbcc1faeba9435e00330c3d6962858711445cf1e817/umap_learn-0.5.7-py3-none-any.whl.metadata\n",
      "  Using cached umap_learn-0.5.7-py3-none-any.whl.metadata (21 kB)\n",
      "Collecting pynndescent>=0.5 (from umap-learn>=0.5.2->pycaret[full])\n",
      "  Obtaining dependency information for pynndescent>=0.5 from https://files.pythonhosted.org/packages/d2/53/d23a97e0a2c690d40b165d1062e2c4ccc796be458a1ce59f6ba030434663/pynndescent-0.5.13-py3-none-any.whl.metadata\n",
      "  Using cached pynndescent-0.5.13-py3-none-any.whl.metadata (6.8 kB)\n",
      "Requirement already satisfied: h11>=0.8 in c:\\users\\user\\appdata\\local\\programs\\python\\python311\\lib\\site-packages (from uvicorn>=0.17.6->pycaret[full]) (0.16.0)\n",
      "Collecting visions[type_image_path]<0.8.2,>=0.7.5 (from ydata-profiling>=4.3.1->pycaret[full])\n",
      "  Obtaining dependency information for visions[type_image_path]<0.8.2,>=0.7.5 from https://files.pythonhosted.org/packages/90/36/4a0d674198adabadba21eb4048df5cc2e25a4ecff38d75e974d51a83fda2/visions-0.8.1-py3-none-any.whl.metadata\n",
      "  Using cached visions-0.8.1-py3-none-any.whl.metadata (11 kB)\n",
      "Requirement already satisfied: htmlmin==0.1.12 in c:\\users\\user\\appdata\\local\\programs\\python\\python311\\lib\\site-packages (from ydata-profiling>=4.3.1->pycaret[full]) (0.1.12)\n",
      "Collecting phik<0.13,>=0.11.1 (from ydata-profiling>=4.3.1->pycaret[full])\n",
      "  Obtaining dependency information for phik<0.13,>=0.11.1 from https://files.pythonhosted.org/packages/86/a9/2e70ab81c9383c92d95d776a08fa6253529a5f018d02e2e78791195b1b71/phik-0.12.5-cp311-cp311-win_amd64.whl.metadata\n",
      "  Using cached phik-0.12.5-cp311-cp311-win_amd64.whl.metadata (5.6 kB)\n",
      "Collecting seaborn<0.14,>=0.10.1 (from ydata-profiling>=4.3.1->pycaret[full])\n",
      "  Obtaining dependency information for seaborn<0.14,>=0.10.1 from https://files.pythonhosted.org/packages/83/11/00d3c3dfc25ad54e731d91449895a79e4bf2384dc3ac01809010ba88f6d5/seaborn-0.13.2-py3-none-any.whl.metadata\n",
      "  Using cached seaborn-0.13.2-py3-none-any.whl.metadata (5.4 kB)\n",
      "Requirement already satisfied: multimethod<2,>=1.4 in c:\\users\\user\\appdata\\local\\programs\\python\\python311\\lib\\site-packages (from ydata-profiling>=4.3.1->pycaret[full]) (1.12)\n",
      "Requirement already satisfied: typeguard<5,>=3 in c:\\users\\user\\appdata\\local\\programs\\python\\python311\\lib\\site-packages (from ydata-profiling>=4.3.1->pycaret[full]) (4.4.4)\n",
      "Collecting imagehash==4.3.1 (from ydata-profiling>=4.3.1->pycaret[full])\n",
      "  Obtaining dependency information for imagehash==4.3.1 from https://files.pythonhosted.org/packages/2d/b4/19a746a986c6e38595fa5947c028b1b8e287773dcad766e648897ad2a4cf/ImageHash-4.3.1-py2.py3-none-any.whl.metadata\n",
      "  Using cached ImageHash-4.3.1-py2.py3-none-any.whl.metadata (8.0 kB)\n",
      "Collecting wordcloud>=1.9.3 (from ydata-profiling>=4.3.1->pycaret[full])\n",
      "  Obtaining dependency information for wordcloud>=1.9.3 from https://files.pythonhosted.org/packages/00/09/abb305dce85911b8fba382926cfc57f2f257729e25937fdcc63f3a1a67f9/wordcloud-1.9.4-cp311-cp311-win_amd64.whl.metadata\n",
      "  Using cached wordcloud-1.9.4-cp311-cp311-win_amd64.whl.metadata (3.5 kB)\n",
      "Requirement already satisfied: dacite>=1.8 in c:\\users\\user\\appdata\\local\\programs\\python\\python311\\lib\\site-packages (from ydata-profiling>=4.3.1->pycaret[full]) (1.9.2)\n",
      "Requirement already satisfied: PyWavelets in c:\\users\\user\\appdata\\local\\programs\\python\\python311\\lib\\site-packages (from imagehash==4.3.1->ydata-profiling>=4.3.1->pycaret[full]) (1.9.0)\n",
      "INFO: pip is looking at multiple versions of dash[testing] to determine which version is compatible with other requirements. This could take a while.\n",
      "Collecting dash[testing] (from pycaret[full])\n",
      "  Obtaining dependency information for dash[testing] from https://files.pythonhosted.org/packages/e1/df/267614cbc1003f6982d7078fd5c7591778f75e07bf36d4771fcb2eab8ff1/dash-3.1.1-py3-none-any.whl.metadata\n",
      "  Using cached dash-3.1.1-py3-none-any.whl.metadata (10 kB)\n",
      "  Obtaining dependency information for dash[testing] from https://files.pythonhosted.org/packages/d7/03/561820008b5187e22cf981c9fc9178d98fe16d699c9ff6bdf47ada123670/dash-3.1.0-py3-none-any.whl.metadata\n",
      "  Using cached dash-3.1.0-py3-none-any.whl.metadata (10 kB)\n",
      "  Obtaining dependency information for dash[testing] from https://files.pythonhosted.org/packages/0d/20/2e7ab37ea2ef1f8b2592a2615c8b3fb041ad51f32101061d8bc6465b8b40/dash-3.0.4-py3-none-any.whl.metadata\n",
      "  Using cached dash-3.0.4-py3-none-any.whl.metadata (10 kB)\n",
      "  Obtaining dependency information for dash[testing] from https://files.pythonhosted.org/packages/e8/62/4f7ed64d193fe8a3d13abe03694bd752ca3c34fce8b025af794585f3cc2a/dash-3.0.3-py3-none-any.whl.metadata\n",
      "  Using cached dash-3.0.3-py3-none-any.whl.metadata (10 kB)\n",
      "  Obtaining dependency information for dash[testing] from https://files.pythonhosted.org/packages/4e/52/a4d1320ab57402d0cbe7e70e3bad72524bb66b86973a0330b372f3ce47b2/dash-3.0.2-py3-none-any.whl.metadata\n",
      "  Using cached dash-3.0.2-py3-none-any.whl.metadata (10 kB)\n",
      "  Obtaining dependency information for dash[testing] from https://files.pythonhosted.org/packages/3f/a8/979f501f01a3bbc223c8b26b96db2b51bd45a8fc47de52e749aedeece7af/dash-3.0.1-py3-none-any.whl.metadata\n",
      "  Using cached dash-3.0.1-py3-none-any.whl.metadata (10 kB)\n",
      "  Obtaining dependency information for dash[testing] from https://files.pythonhosted.org/packages/0e/b1/4538ba05deedd430167bbee3ee1589276994e4a85c9e4d52f467080ecc33/dash-3.0.0-py3-none-any.whl.metadata\n",
      "  Using cached dash-3.0.0-py3-none-any.whl.metadata (10 kB)\n",
      "INFO: pip is still looking at multiple versions of dash[testing] to determine which version is compatible with other requirements. This could take a while.\n",
      "Requirement already satisfied: dash-html-components==2.0.0 in c:\\users\\user\\appdata\\local\\programs\\python\\python311\\lib\\site-packages (from dash<3,>=2.10->explainerdashboard>=0.3.8->pycaret[full]) (2.0.0)\n",
      "Requirement already satisfied: dash-core-components==2.0.0 in c:\\users\\user\\appdata\\local\\programs\\python\\python311\\lib\\site-packages (from dash<3,>=2.10->explainerdashboard>=0.3.8->pycaret[full]) (2.0.0)\n",
      "Requirement already satisfied: dash-table==5.0.0 in c:\\users\\user\\appdata\\local\\programs\\python\\python311\\lib\\site-packages (from dash<3,>=2.10->explainerdashboard>=0.3.8->pycaret[full]) (5.0.0)\n",
      "Requirement already satisfied: retrying in c:\\users\\user\\appdata\\local\\programs\\python\\python311\\lib\\site-packages (from dash<3,>=2.10->explainerdashboard>=0.3.8->pycaret[full]) (1.4.2)\n",
      "Requirement already satisfied: nest-asyncio in c:\\users\\user\\appdata\\local\\programs\\python\\python311\\lib\\site-packages (from dash<3,>=2.10->explainerdashboard>=0.3.8->pycaret[full]) (1.6.0)\n",
      "Requirement already satisfied: beautifulsoup4>=4.8.2 in c:\\users\\user\\appdata\\local\\programs\\python\\python311\\lib\\site-packages (from dash<3,>=2.10->explainerdashboard>=0.3.8->pycaret[full]) (4.13.5)\n",
      "Requirement already satisfied: lxml>=4.6.2 in c:\\users\\user\\appdata\\local\\programs\\python\\python311\\lib\\site-packages (from dash<3,>=2.10->explainerdashboard>=0.3.8->pycaret[full]) (6.0.1)\n",
      "Collecting percy>=2.0.2 (from dash<3,>=2.10->explainerdashboard>=0.3.8->pycaret[full])\n",
      "  Obtaining dependency information for percy>=2.0.2 from https://files.pythonhosted.org/packages/d6/39/528e689e21baa4d625cecc326c0d56c976d63855f9d114c07ccaed8a73eb/percy-2.0.2-py2.py3-none-any.whl.metadata\n",
      "  Using cached percy-2.0.2-py2.py3-none-any.whl.metadata (821 bytes)\n",
      "Collecting selenium<=4.2.0,>=3.141.0 (from dash<3,>=2.10->explainerdashboard>=0.3.8->pycaret[full])\n",
      "  Obtaining dependency information for selenium<=4.2.0,>=3.141.0 from https://files.pythonhosted.org/packages/c9/0b/5ef429492faa5d951d8215918c7092de2dbc25cf895fdf46643260b22f92/selenium-4.2.0-py3-none-any.whl.metadata\n",
      "  Using cached selenium-4.2.0-py3-none-any.whl.metadata (6.5 kB)\n",
      "Collecting multiprocess>=0.70.12 (from dash<3,>=2.10->explainerdashboard>=0.3.8->pycaret[full])\n",
      "  Obtaining dependency information for multiprocess>=0.70.12 from https://files.pythonhosted.org/packages/4b/88/9039f2fed1012ef584751d4ceff9ab4a51e5ae264898f0b7cbf44340a859/multiprocess-0.70.18-py311-none-any.whl.metadata\n",
      "  Using cached multiprocess-0.70.18-py311-none-any.whl.metadata (7.5 kB)\n",
      "Requirement already satisfied: dash-testing-stub>=0.0.2 in c:\\users\\user\\appdata\\local\\programs\\python\\python311\\lib\\site-packages (from dash<3,>=2.10->explainerdashboard>=0.3.8->pycaret[full]) (0.0.2)\n",
      "INFO: pip is looking at multiple versions of fugue[dask] to determine which version is compatible with other requirements. This could take a while.\n",
      "Collecting fugue[dask] (from pycaret[full])\n",
      "  Obtaining dependency information for fugue[dask] from https://files.pythonhosted.org/packages/19/08/055cfc088df11c7d277b5a7a0bfbd3179597024897725c37c1f0831ca3ec/fugue-0.9.0-py3-none-any.whl.metadata\n",
      "  Using cached fugue-0.9.0-py3-none-any.whl.metadata (18 kB)\n",
      "Requirement already satisfied: Mako in c:\\users\\user\\appdata\\local\\programs\\python\\python311\\lib\\site-packages (from alembic!=1.10.0,<2->mlflow>=2.0.0->pycaret[full]) (1.3.10)\n",
      "Requirement already satisfied: sniffio>=1.1 in c:\\users\\user\\appdata\\local\\programs\\python\\python311\\lib\\site-packages (from anyio<5.0,>=3.0->gradio>=3.50.2->pycaret[full]) (1.3.1)\n",
      "Requirement already satisfied: soupsieve>1.2 in c:\\users\\user\\appdata\\local\\programs\\python\\python311\\lib\\site-packages (from beautifulsoup4>=4.8.2->dash<3,>=2.10->explainerdashboard>=0.3.8->pycaret[full]) (2.8)\n",
      "Requirement already satisfied: simplejson>=3.19.3 in c:\\users\\user\\appdata\\local\\programs\\python\\python311\\lib\\site-packages (from choreographer>=1.0.10->kaleido>=0.2.1->pycaret[full]) (3.20.1)\n",
      "Requirement already satisfied: cffi>=1.14 in c:\\users\\user\\appdata\\local\\programs\\python\\python311\\lib\\site-packages (from cryptography>=43.0.1->evidently~=0.4.16->pycaret[full]) (2.0.0)\n",
      "INFO: pip is looking at multiple versions of dash-bootstrap-components to determine which version is compatible with other requirements. This could take a while.\n",
      "Collecting dash-bootstrap-components<3,>=1 (from explainerdashboard>=0.3.8->pycaret[full])\n",
      "  Obtaining dependency information for dash-bootstrap-components<3,>=1 from https://files.pythonhosted.org/packages/f7/f6/b4652aacfbc8d684c9ca8efc5178860a50b54abf82cd1960013c59f8258f/dash_bootstrap_components-2.0.3-py3-none-any.whl.metadata\n",
      "  Using cached dash_bootstrap_components-2.0.3-py3-none-any.whl.metadata (18 kB)\n",
      "  Obtaining dependency information for dash-bootstrap-components<3,>=1 from https://files.pythonhosted.org/packages/93/56/3f0b3c3247fab03f2bd4e2f85a79ef07c0f539915108685da9e94d7289d7/dash_bootstrap_components-2.0.2-py3-none-any.whl.metadata\n",
      "  Using cached dash_bootstrap_components-2.0.2-py3-none-any.whl.metadata (18 kB)\n",
      "  Obtaining dependency information for dash-bootstrap-components<3,>=1 from https://files.pythonhosted.org/packages/2e/3f/53d53cb3490d623b4ca56e152db0a495951fdc98ed044ca12138cfb527f9/dash_bootstrap_components-2.0.1-py3-none-any.whl.metadata\n",
      "  Using cached dash_bootstrap_components-2.0.1-py3-none-any.whl.metadata (18 kB)\n",
      "  Obtaining dependency information for dash-bootstrap-components<3,>=1 from https://files.pythonhosted.org/packages/f0/4c/8835f86877e2f8fce87acddea10677a9e5c035a8b11495a052a1a685c5a3/dash_bootstrap_components-2.0.0-py3-none-any.whl.metadata\n",
      "  Using cached dash_bootstrap_components-2.0.0-py3-none-any.whl.metadata (18 kB)\n",
      "  Obtaining dependency information for dash-bootstrap-components<3,>=1 from https://files.pythonhosted.org/packages/c3/87/4db3b56e9a6813d413a0f20e053aa163d652babb629a8bf7b871af4a075f/dash_bootstrap_components-1.7.1-py3-none-any.whl.metadata\n",
      "  Using cached dash_bootstrap_components-1.7.1-py3-none-any.whl.metadata (17 kB)\n",
      "Requirement already satisfied: pywin32>=304 in c:\\users\\user\\appdata\\local\\programs\\python\\python311\\lib\\site-packages (from docker<8,>=4.0.0->mlflow>=2.0.0->pycaret[full]) (311)\n",
      "Requirement already satisfied: colour in c:\\users\\user\\appdata\\local\\programs\\python\\python311\\lib\\site-packages (from dtreeviz>=2.1->explainerdashboard>=0.3.8->pycaret[full]) (0.1.5)\n",
      "Collecting authlib>=1.5.2 (from fastmcp<3,>=2.0.0->mlflow>=2.0.0->pycaret[full])\n",
      "  Obtaining dependency information for authlib>=1.5.2 from https://files.pythonhosted.org/packages/0e/aa/91355b5f539caf1b94f0e66ff1e4ee39373b757fce08204981f7829ede51/authlib-1.6.4-py2.py3-none-any.whl.metadata\n",
      "  Using cached authlib-1.6.4-py2.py3-none-any.whl.metadata (9.8 kB)\n",
      "Collecting cyclopts>=3.0.0 (from fastmcp<3,>=2.0.0->mlflow>=2.0.0->pycaret[full])\n",
      "  Obtaining dependency information for cyclopts>=3.0.0 from https://files.pythonhosted.org/packages/f0/8b/2c95f0645c6f40211896375e6fa51f504b8ccb29c21f6ae661fe87ab044e/cyclopts-3.24.0-py3-none-any.whl.metadata\n",
      "  Using cached cyclopts-3.24.0-py3-none-any.whl.metadata (11 kB)\n",
      "Requirement already satisfied: exceptiongroup>=1.2.2 in c:\\users\\user\\appdata\\local\\programs\\python\\python311\\lib\\site-packages (from fastmcp<3,>=2.0.0->mlflow>=2.0.0->pycaret[full]) (1.3.0)\n",
      "Collecting mcp<2.0.0,>=1.12.4 (from fastmcp<3,>=2.0.0->mlflow>=2.0.0->pycaret[full])\n",
      "  Obtaining dependency information for mcp<2.0.0,>=1.12.4 from https://files.pythonhosted.org/packages/8e/11/d334fbb7c2aeddd2e762b86d7a619acffae012643a5738e698f975a2a9e2/mcp-1.14.1-py3-none-any.whl.metadata\n",
      "  Using cached mcp-1.14.1-py3-none-any.whl.metadata (75 kB)\n",
      "Collecting openapi-core>=0.19.5 (from fastmcp<3,>=2.0.0->mlflow>=2.0.0->pycaret[full])\n",
      "  Obtaining dependency information for openapi-core>=0.19.5 from https://files.pythonhosted.org/packages/27/6f/83ead0e2e30a90445ee4fc0135f43741aebc30cca5b43f20968b603e30b6/openapi_core-0.19.5-py3-none-any.whl.metadata\n",
      "  Using cached openapi_core-0.19.5-py3-none-any.whl.metadata (6.6 kB)\n",
      "Collecting openapi-pydantic>=0.5.1 (from fastmcp<3,>=2.0.0->mlflow>=2.0.0->pycaret[full])\n",
      "  Obtaining dependency information for openapi-pydantic>=0.5.1 from https://files.pythonhosted.org/packages/12/cf/03675d8bd8ecbf4445504d8071adab19f5f993676795708e36402ab38263/openapi_pydantic-0.5.1-py3-none-any.whl.metadata\n",
      "  Using cached openapi_pydantic-0.5.1-py3-none-any.whl.metadata (10 kB)\n",
      "Requirement already satisfied: pyperclip>=1.9.0 in c:\\users\\user\\appdata\\local\\programs\\python\\python311\\lib\\site-packages (from fastmcp<3,>=2.0.0->mlflow>=2.0.0->pycaret[full]) (1.10.0)\n",
      "Requirement already satisfied: wtforms in c:\\users\\user\\appdata\\local\\programs\\python\\python311\\lib\\site-packages (from flask-wtf>=1.1->explainerdashboard>=0.3.8->pycaret[full]) (3.2.1)\n",
      "Requirement already satisfied: antlr4-python3-runtime<4.12 in c:\\users\\user\\appdata\\local\\programs\\python\\python311\\lib\\site-packages (from fugue-sql-antlr>=0.1.6->fugue~=0.8.0->pycaret[full]) (4.11.1)\n",
      "Requirement already satisfied: graphql-core<3.3,>=3.1 in c:\\users\\user\\appdata\\local\\programs\\python\\python311\\lib\\site-packages (from graphene<4->mlflow>=2.0.0->pycaret[full]) (3.2.6)\n",
      "Collecting graphql-relay<3.3,>=3.1 (from graphene<4->mlflow>=2.0.0->pycaret[full])\n",
      "  Obtaining dependency information for graphql-relay<3.3,>=3.1 from https://files.pythonhosted.org/packages/74/16/a4cf06adbc711bd364a73ce043b0b08d8fa5aae3df11b6ee4248bcdad2e0/graphql_relay-3.2.0-py3-none-any.whl.metadata\n",
      "  Using cached graphql_relay-3.2.0-py3-none-any.whl.metadata (12 kB)\n",
      "Requirement already satisfied: httpcore==1.* in c:\\users\\user\\appdata\\local\\programs\\python\\python311\\lib\\site-packages (from httpx<1.0,>=0.24.1->gradio>=3.50.2->pycaret[full]) (1.0.9)\n",
      "Requirement already satisfied: filelock in c:\\users\\user\\appdata\\local\\programs\\python\\python311\\lib\\site-packages (from huggingface-hub<1.0,>=0.33.5->gradio>=3.50.2->pycaret[full]) (3.19.1)\n",
      "Requirement already satisfied: appdirs in c:\\users\\user\\appdata\\local\\programs\\python\\python311\\lib\\site-packages (from iterative-telemetry>=0.0.5->evidently~=0.4.16->pycaret[full]) (1.4.4)\n",
      "Requirement already satisfied: distro in c:\\users\\user\\appdata\\local\\programs\\python\\python311\\lib\\site-packages (from iterative-telemetry>=0.0.5->evidently~=0.4.16->pycaret[full]) (1.9.0)\n",
      "Requirement already satisfied: parso<0.9.0,>=0.8.4 in c:\\users\\user\\appdata\\local\\programs\\python\\python311\\lib\\site-packages (from jedi>=0.16->ipython>=5.5.0->pycaret[full]) (0.8.5)\n",
      "Requirement already satisfied: attrs>=22.2.0 in c:\\users\\user\\appdata\\local\\programs\\python\\python311\\lib\\site-packages (from jsonschema>=2.6->nbformat>=4.2.0->pycaret[full]) (25.3.0)\n",
      "Requirement already satisfied: jsonschema-specifications>=2023.03.6 in c:\\users\\user\\appdata\\local\\programs\\python\\python311\\lib\\site-packages (from jsonschema>=2.6->nbformat>=4.2.0->pycaret[full]) (2025.4.1)\n",
      "Requirement already satisfied: referencing>=0.28.4 in c:\\users\\user\\appdata\\local\\programs\\python\\python311\\lib\\site-packages (from jsonschema>=2.6->nbformat>=4.2.0->pycaret[full]) (0.36.2)\n",
      "Requirement already satisfied: rpds-py>=0.7.1 in c:\\users\\user\\appdata\\local\\programs\\python\\python311\\lib\\site-packages (from jsonschema>=2.6->nbformat>=4.2.0->pycaret[full]) (0.27.1)\n",
      "Requirement already satisfied: platformdirs>=2.5 in c:\\users\\user\\appdata\\local\\programs\\python\\python311\\lib\\site-packages (from jupyter-core!=5.0.*,>=4.12->nbformat>=4.2.0->pycaret[full]) (4.4.0)\n",
      "Requirement already satisfied: ansi2html in c:\\users\\user\\appdata\\local\\programs\\python\\python311\\lib\\site-packages (from jupyter-dash>=0.4.1->explainerdashboard>=0.3.8->pycaret[full]) (1.9.2)\n",
      "Requirement already satisfied: litestar-htmx>=0.4.0 in c:\\users\\user\\appdata\\local\\programs\\python\\python311\\lib\\site-packages (from litestar>=2.8.3->evidently~=0.4.16->pycaret[full]) (0.5.0)\n",
      "Requirement already satisfied: msgspec>=0.18.2 in c:\\users\\user\\appdata\\local\\programs\\python\\python311\\lib\\site-packages (from litestar>=2.8.3->evidently~=0.4.16->pycaret[full]) (0.19.0)\n",
      "Requirement already satisfied: multidict>=6.0.2 in c:\\users\\user\\appdata\\local\\programs\\python\\python311\\lib\\site-packages (from litestar>=2.8.3->evidently~=0.4.16->pycaret[full]) (6.6.4)\n",
      "Requirement already satisfied: multipart>=1.2.0 in c:\\users\\user\\appdata\\local\\programs\\python\\python311\\lib\\site-packages (from litestar>=2.8.3->evidently~=0.4.16->pycaret[full]) (1.3.0)\n",
      "Requirement already satisfied: polyfactory>=2.6.3 in c:\\users\\user\\appdata\\local\\programs\\python\\python311\\lib\\site-packages (from litestar>=2.8.3->evidently~=0.4.16->pycaret[full]) (2.22.2)\n",
      "Collecting rich-click (from litestar>=2.8.3->evidently~=0.4.16->pycaret[full])\n",
      "  Obtaining dependency information for rich-click from https://files.pythonhosted.org/packages/a8/77/e9144dcf68a0b3f3f4386986f97255c3d9f7c659be58bb7a5fe8f26f3efa/rich_click-1.9.1-py3-none-any.whl.metadata\n",
      "  Using cached rich_click-1.9.1-py3-none-any.whl.metadata (8.6 kB)\n",
      "Requirement already satisfied: regex>=2021.8.3 in c:\\users\\user\\appdata\\local\\programs\\python\\python311\\lib\\site-packages (from nltk>=3.6.7->evidently~=0.4.16->pycaret[full]) (2025.9.18)\n",
      "Requirement already satisfied: wcwidth in c:\\users\\user\\appdata\\local\\programs\\python\\python311\\lib\\site-packages (from prompt_toolkit<3.1.0,>=3.0.41->ipython>=5.5.0->pycaret[full]) (0.2.13)\n",
      "Requirement already satisfied: annotated-types>=0.6.0 in c:\\users\\user\\appdata\\local\\programs\\python\\python311\\lib\\site-packages (from pydantic>=1.10.13->evidently~=0.4.16->pycaret[full]) (0.7.0)\n",
      "Requirement already satisfied: pydantic-core==2.33.2 in c:\\users\\user\\appdata\\local\\programs\\python\\python311\\lib\\site-packages (from pydantic>=1.10.13->evidently~=0.4.16->pycaret[full]) (2.33.2)\n",
      "Requirement already satisfied: typing-inspection>=0.4.0 in c:\\users\\user\\appdata\\local\\programs\\python\\python311\\lib\\site-packages (from pydantic>=1.10.13->evidently~=0.4.16->pycaret[full]) (0.4.1)\n",
      "Requirement already satisfied: markdown-it-py>=2.2.0 in c:\\users\\user\\appdata\\local\\programs\\python\\python311\\lib\\site-packages (from rich>=13->evidently~=0.4.16->pycaret[full]) (3.0.0)\n",
      "Requirement already satisfied: trio~=0.17 in c:\\users\\user\\appdata\\local\\programs\\python\\python311\\lib\\site-packages (from selenium<=4.2.0,>=3.141.0->dash<3,>=2.10->explainerdashboard>=0.3.8->pycaret[full]) (0.31.0)\n",
      "Collecting trio-websocket~=0.9 (from selenium<=4.2.0,>=3.141.0->dash<3,>=2.10->explainerdashboard>=0.3.8->pycaret[full])\n",
      "  Obtaining dependency information for trio-websocket~=0.9 from https://files.pythonhosted.org/packages/c7/19/eb640a397bba49ba49ef9dbe2e7e5c04202ba045b6ce2ec36e9cadc51e04/trio_websocket-0.12.2-py3-none-any.whl.metadata\n",
      "  Using cached trio_websocket-0.12.2-py3-none-any.whl.metadata (5.1 kB)\n",
      "Collecting fs (from triad>=0.9.3->fugue~=0.8.0->pycaret[full])\n",
      "  Obtaining dependency information for fs from https://files.pythonhosted.org/packages/b9/5c/a3d95dc1ec6cdeb032d789b552ecc76effa3557ea9186e1566df6aac18df/fs-2.4.16-py2.py3-none-any.whl.metadata\n",
      "  Using cached fs-2.4.16-py2.py3-none-any.whl.metadata (6.3 kB)\n",
      "Requirement already satisfied: shellingham>=1.3.0 in c:\\users\\user\\appdata\\local\\programs\\python\\python311\\lib\\site-packages (from typer>=0.3->evidently~=0.4.16->pycaret[full]) (1.5.4)\n",
      "Requirement already satisfied: mypy-extensions>=0.3.0 in c:\\users\\user\\appdata\\local\\programs\\python\\python311\\lib\\site-packages (from typing-inspect>=0.9.0->evidently~=0.4.16->pycaret[full]) (1.1.0)\n",
      "Requirement already satisfied: httptools>=0.6.3 in c:\\users\\user\\appdata\\local\\programs\\python\\python311\\lib\\site-packages (from uvicorn>=0.17.6->pycaret[full]) (0.6.4)\n",
      "Requirement already satisfied: watchfiles>=0.13 in c:\\users\\user\\appdata\\local\\programs\\python\\python311\\lib\\site-packages (from uvicorn>=0.17.6->pycaret[full]) (1.1.0)\n",
      "Requirement already satisfied: puremagic in c:\\users\\user\\appdata\\local\\programs\\python\\python311\\lib\\site-packages (from visions[type_image_path]<0.8.2,>=0.7.5->ydata-profiling>=4.3.1->pycaret[full]) (1.30)\n",
      "Requirement already satisfied: executing>=1.2.0 in c:\\users\\user\\appdata\\local\\programs\\python\\python311\\lib\\site-packages (from stack_data->ipython>=5.5.0->pycaret[full]) (2.2.1)\n",
      "Requirement already satisfied: asttokens>=2.1.0 in c:\\users\\user\\appdata\\local\\programs\\python\\python311\\lib\\site-packages (from stack_data->ipython>=5.5.0->pycaret[full]) (3.0.0)\n",
      "Requirement already satisfied: pure-eval in c:\\users\\user\\appdata\\local\\programs\\python\\python311\\lib\\site-packages (from stack_data->ipython>=5.5.0->pycaret[full]) (0.2.3)\n",
      "Requirement already satisfied: pycparser in c:\\users\\user\\appdata\\local\\programs\\python\\python311\\lib\\site-packages (from cffi>=1.14->cryptography>=43.0.1->evidently~=0.4.16->pycaret[full]) (2.23)\n",
      "Requirement already satisfied: docstring-parser>=0.15 in c:\\users\\user\\appdata\\local\\programs\\python\\python311\\lib\\site-packages (from cyclopts>=3.0.0->fastmcp<3,>=2.0.0->mlflow>=2.0.0->pycaret[full]) (0.17.0)\n",
      "Collecting rich-rst<2.0.0,>=1.3.1 (from cyclopts>=3.0.0->fastmcp<3,>=2.0.0->mlflow>=2.0.0->pycaret[full])\n",
      "  Obtaining dependency information for rich-rst<2.0.0,>=1.3.1 from https://files.pythonhosted.org/packages/fd/bc/cc4e3dbc5e7992398dcb7a8eda0cbcf4fb792a0cdb93f857b478bf3cf884/rich_rst-1.3.1-py3-none-any.whl.metadata\n",
      "  Using cached rich_rst-1.3.1-py3-none-any.whl.metadata (6.0 kB)\n",
      "Collecting google-auth~=2.0 (from databricks-sdk<1,>=0.20.0->mlflow-skinny==3.4.0->mlflow>=2.0.0->pycaret[full])\n",
      "  Obtaining dependency information for google-auth~=2.0 from https://files.pythonhosted.org/packages/17/63/b19553b658a1692443c62bd07e5868adaa0ad746a0751ba62c59568cd45b/google_auth-2.40.3-py2.py3-none-any.whl.metadata\n",
      "  Using cached google_auth-2.40.3-py2.py3-none-any.whl.metadata (6.2 kB)\n",
      "Requirement already satisfied: zope.event in c:\\users\\user\\appdata\\local\\programs\\python\\python311\\lib\\site-packages (from gevent>=1.3.6->interpret-core[aplr,dash,debug,linear,notebook,plotly,sensitivity,shap]==0.7.2->interpret>=0.2.7->pycaret[full]) (6.0)\n",
      "Requirement already satisfied: zope.interface in c:\\users\\user\\appdata\\local\\programs\\python\\python311\\lib\\site-packages (from gevent>=1.3.6->interpret-core[aplr,dash,debug,linear,notebook,plotly,sensitivity,shap]==0.7.2->interpret>=0.2.7->pycaret[full]) (8.0)\n",
      "Requirement already satisfied: gitdb<5,>=4.0.1 in c:\\users\\user\\appdata\\local\\programs\\python\\python311\\lib\\site-packages (from gitpython<4,>=3.1.9->mlflow-skinny==3.4.0->mlflow>=2.0.0->pycaret[full]) (4.0.12)\n",
      "Requirement already satisfied: debugpy>=1.6.5 in c:\\users\\user\\appdata\\local\\programs\\python\\python311\\lib\\site-packages (from ipykernel>=4.10.0->interpret-core[aplr,dash,debug,linear,notebook,plotly,sensitivity,shap]==0.7.2->interpret>=0.2.7->pycaret[full]) (1.8.17)\n",
      "Requirement already satisfied: jupyter-client>=8.0.0 in c:\\users\\user\\appdata\\local\\programs\\python\\python311\\lib\\site-packages (from ipykernel>=4.10.0->interpret-core[aplr,dash,debug,linear,notebook,plotly,sensitivity,shap]==0.7.2->interpret>=0.2.7->pycaret[full]) (8.6.3)\n",
      "Requirement already satisfied: pyzmq>=25 in c:\\users\\user\\appdata\\local\\programs\\python\\python311\\lib\\site-packages (from ipykernel>=4.10.0->interpret-core[aplr,dash,debug,linear,notebook,plotly,sensitivity,shap]==0.7.2->interpret>=0.2.7->pycaret[full]) (27.1.0)\n",
      "Requirement already satisfied: mdurl~=0.1 in c:\\users\\user\\appdata\\local\\programs\\python\\python311\\lib\\site-packages (from markdown-it-py>=2.2.0->rich>=13->evidently~=0.4.16->pycaret[full]) (0.1.2)\n",
      "Requirement already satisfied: httpx-sse>=0.4 in c:\\users\\user\\appdata\\local\\programs\\python\\python311\\lib\\site-packages (from mcp<2.0.0,>=1.12.4->fastmcp<3,>=2.0.0->mlflow>=2.0.0->pycaret[full]) (0.4.1)\n",
      "Collecting pydantic-settings>=2.5.2 (from mcp<2.0.0,>=1.12.4->fastmcp<3,>=2.0.0->mlflow>=2.0.0->pycaret[full])\n",
      "  Obtaining dependency information for pydantic-settings>=2.5.2 from https://files.pythonhosted.org/packages/58/f0/427018098906416f580e3cf1366d3b1abfb408a0652e9f31600c24a1903c/pydantic_settings-2.10.1-py3-none-any.whl.metadata\n",
      "  Using cached pydantic_settings-2.10.1-py3-none-any.whl.metadata (3.4 kB)\n",
      "Requirement already satisfied: sse-starlette>=1.6.1 in c:\\users\\user\\appdata\\local\\programs\\python\\python311\\lib\\site-packages (from mcp<2.0.0,>=1.12.4->fastmcp<3,>=2.0.0->mlflow>=2.0.0->pycaret[full]) (3.0.2)\n",
      "Requirement already satisfied: isodate in c:\\users\\user\\appdata\\local\\programs\\python\\python311\\lib\\site-packages (from openapi-core>=0.19.5->fastmcp<3,>=2.0.0->mlflow>=2.0.0->pycaret[full]) (0.7.2)\n",
      "Collecting jsonschema-path<0.4.0,>=0.3.1 (from openapi-core>=0.19.5->fastmcp<3,>=2.0.0->mlflow>=2.0.0->pycaret[full])\n",
      "  Obtaining dependency information for jsonschema-path<0.4.0,>=0.3.1 from https://files.pythonhosted.org/packages/cb/58/3485da8cb93d2f393bce453adeef16896751f14ba3e2024bc21dc9597646/jsonschema_path-0.3.4-py3-none-any.whl.metadata\n",
      "  Using cached jsonschema_path-0.3.4-py3-none-any.whl.metadata (4.3 kB)\n",
      "Requirement already satisfied: more-itertools in c:\\users\\user\\appdata\\local\\programs\\python\\python311\\lib\\site-packages (from openapi-core>=0.19.5->fastmcp<3,>=2.0.0->mlflow>=2.0.0->pycaret[full]) (10.8.0)\n",
      "Collecting openapi-schema-validator<0.7.0,>=0.6.0 (from openapi-core>=0.19.5->fastmcp<3,>=2.0.0->mlflow>=2.0.0->pycaret[full])\n",
      "  Obtaining dependency information for openapi-schema-validator<0.7.0,>=0.6.0 from https://files.pythonhosted.org/packages/21/c6/ad0fba32775ae749016829dace42ed80f4407b171da41313d1a3a5f102e4/openapi_schema_validator-0.6.3-py3-none-any.whl.metadata\n",
      "  Using cached openapi_schema_validator-0.6.3-py3-none-any.whl.metadata (5.4 kB)\n",
      "Collecting openapi-spec-validator<0.8.0,>=0.7.1 (from openapi-core>=0.19.5->fastmcp<3,>=2.0.0->mlflow>=2.0.0->pycaret[full])\n",
      "  Obtaining dependency information for openapi-spec-validator<0.8.0,>=0.7.1 from https://files.pythonhosted.org/packages/27/dd/b3fd642260cb17532f66cc1e8250f3507d1e580483e209dc1e9d13bd980d/openapi_spec_validator-0.7.2-py3-none-any.whl.metadata\n",
      "  Using cached openapi_spec_validator-0.7.2-py3-none-any.whl.metadata (5.7 kB)\n",
      "Requirement already satisfied: parse in c:\\users\\user\\appdata\\local\\programs\\python\\python311\\lib\\site-packages (from openapi-core>=0.19.5->fastmcp<3,>=2.0.0->mlflow>=2.0.0->pycaret[full]) (1.20.2)\n",
      "Collecting opentelemetry-semantic-conventions==0.58b0 (from opentelemetry-sdk<3,>=1.9.0->mlflow-skinny==3.4.0->mlflow>=2.0.0->pycaret[full])\n",
      "  Obtaining dependency information for opentelemetry-semantic-conventions==0.58b0 from https://files.pythonhosted.org/packages/07/90/68152b7465f50285d3ce2481b3aec2f82822e3f52e5152eeeaf516bab841/opentelemetry_semantic_conventions-0.58b0-py3-none-any.whl.metadata\n",
      "  Using cached opentelemetry_semantic_conventions-0.58b0-py3-none-any.whl.metadata (2.4 kB)\n",
      "Requirement already satisfied: faker>=5.0.0 in c:\\users\\user\\appdata\\local\\programs\\python\\python311\\lib\\site-packages (from polyfactory>=2.6.3->litestar>=2.8.3->evidently~=0.4.16->pycaret[full]) (37.8.0)\n",
      "Collecting email-validator>=2.0.0 (from pydantic>=1.10.13->evidently~=0.4.16->pycaret[full])\n",
      "  Obtaining dependency information for email-validator>=2.0.0 from https://files.pythonhosted.org/packages/de/15/545e2b6cf2e3be84bc1ed85613edd75b8aea69807a71c26f4ca6a9258e82/email_validator-2.3.0-py3-none-any.whl.metadata\n",
      "  Using cached email_validator-2.3.0-py3-none-any.whl.metadata (26 kB)\n",
      "Requirement already satisfied: outcome in c:\\users\\user\\appdata\\local\\programs\\python\\python311\\lib\\site-packages (from trio~=0.17->selenium<=4.2.0,>=3.141.0->dash<3,>=2.10->explainerdashboard>=0.3.8->pycaret[full]) (1.3.0.post0)\n",
      "Requirement already satisfied: wsproto>=0.14 in c:\\users\\user\\appdata\\local\\programs\\python\\python311\\lib\\site-packages (from trio-websocket~=0.9->selenium<=4.2.0,>=3.141.0->dash<3,>=2.10->explainerdashboard>=0.3.8->pycaret[full]) (1.2.0)\n",
      "Collecting pyOpenSSL>=0.14 (from urllib3>=1.26.5->distributed>=2024.4.1->pycaret[full])\n",
      "  Obtaining dependency information for pyOpenSSL>=0.14 from https://files.pythonhosted.org/packages/d1/81/ef2b1dfd1862567d573a4fdbc9f969067621764fbb74338496840a1d2977/pyopenssl-25.3.0-py3-none-any.whl.metadata\n",
      "  Using cached pyopenssl-25.3.0-py3-none-any.whl.metadata (17 kB)\n",
      "Requirement already satisfied: urllib3-secure-extra in c:\\users\\user\\appdata\\local\\programs\\python\\python311\\lib\\site-packages (from urllib3>=1.26.5->distributed>=2024.4.1->pycaret[full]) (0.1.0)\n",
      "Requirement already satisfied: PySocks!=1.5.7,<2.0,>=1.5.6 in c:\\users\\user\\appdata\\local\\programs\\python\\python311\\lib\\site-packages (from urllib3>=1.26.5->distributed>=2024.4.1->pycaret[full]) (1.7.1)\n",
      "Requirement already satisfied: dnspython>=2.0.0 in c:\\users\\user\\appdata\\local\\programs\\python\\python311\\lib\\site-packages (from email-validator>=2.0.0->pydantic>=1.10.13->evidently~=0.4.16->pycaret[full]) (2.8.0)\n",
      "Requirement already satisfied: smmap<6,>=3.0.1 in c:\\users\\user\\appdata\\local\\programs\\python\\python311\\lib\\site-packages (from gitdb<5,>=4.0.1->gitpython<4,>=3.1.9->mlflow-skinny==3.4.0->mlflow>=2.0.0->pycaret[full]) (5.0.2)\n",
      "Requirement already satisfied: pyasn1-modules>=0.2.1 in c:\\users\\user\\appdata\\local\\programs\\python\\python311\\lib\\site-packages (from google-auth~=2.0->databricks-sdk<1,>=0.20.0->mlflow-skinny==3.4.0->mlflow>=2.0.0->pycaret[full]) (0.4.2)\n",
      "Requirement already satisfied: rsa<5,>=3.1.4 in c:\\users\\user\\appdata\\local\\programs\\python\\python311\\lib\\site-packages (from google-auth~=2.0->databricks-sdk<1,>=0.20.0->mlflow-skinny==3.4.0->mlflow>=2.0.0->pycaret[full]) (4.9.1)\n",
      "Requirement already satisfied: pathable<0.5.0,>=0.4.1 in c:\\users\\user\\appdata\\local\\programs\\python\\python311\\lib\\site-packages (from jsonschema-path<0.4.0,>=0.3.1->openapi-core>=0.19.5->fastmcp<3,>=2.0.0->mlflow>=2.0.0->pycaret[full]) (0.4.4)\n",
      "Requirement already satisfied: rfc3339-validator in c:\\users\\user\\appdata\\local\\programs\\python\\python311\\lib\\site-packages (from openapi-schema-validator<0.7.0,>=0.6.0->openapi-core>=0.19.5->fastmcp<3,>=2.0.0->mlflow>=2.0.0->pycaret[full]) (0.1.4)\n",
      "Requirement already satisfied: lazy-object-proxy<2.0.0,>=1.7.1 in c:\\users\\user\\appdata\\local\\programs\\python\\python311\\lib\\site-packages (from openapi-spec-validator<0.8.0,>=0.7.1->openapi-core>=0.19.5->fastmcp<3,>=2.0.0->mlflow>=2.0.0->pycaret[full]) (1.12.0)\n",
      "Requirement already satisfied: docutils in c:\\users\\user\\appdata\\local\\programs\\python\\python311\\lib\\site-packages (from rich-rst<2.0.0,>=1.3.1->cyclopts>=3.0.0->fastmcp<3,>=2.0.0->mlflow>=2.0.0->pycaret[full]) (0.21.2)\n",
      "Requirement already satisfied: pyasn1<0.7.0,>=0.6.1 in c:\\users\\user\\appdata\\local\\programs\\python\\python311\\lib\\site-packages (from pyasn1-modules>=0.2.1->google-auth~=2.0->databricks-sdk<1,>=0.20.0->mlflow-skinny==3.4.0->mlflow>=2.0.0->pycaret[full]) (0.6.1)\n",
      "Using cached fairlearn-0.7.0-py3-none-any.whl (177 kB)\n",
      "Using cached boto3-1.40.35-py3-none-any.whl (139 kB)\n",
      "Using cached catboost-1.2.8-cp311-cp311-win_amd64.whl (102.5 MB)\n",
      "Using cached dask-2025.9.1-py3-none-any.whl (1.5 MB)\n",
      "Using cached distributed-2025.9.1-py3-none-any.whl (1.0 MB)\n",
      "Using cached evidently-0.4.40-py3-none-any.whl (3.5 MB)\n",
      "Using cached explainerdashboard-0.5.1-py3-none-any.whl (355 kB)\n",
      "Using cached fugue-0.8.7-py3-none-any.whl (279 kB)\n",
      "Using cached gradio-5.46.1-py3-none-any.whl (60.4 MB)\n",
      "Using cached gradio_client-1.13.1-py3-none-any.whl (325 kB)\n",
      "Using cached fastapi-0.117.1-py3-none-any.whl (95 kB)\n",
      "Using cached hyperopt-0.2.7-py2.py3-none-any.whl (1.6 MB)\n",
      "Using cached interpret-0.7.2-py3-none-any.whl (1.4 kB)\n",
      "Using cached kmodes-0.12.2-py2.py3-none-any.whl (20 kB)\n",
      "Using cached mlflow-3.4.0-py3-none-any.whl (26.7 MB)\n",
      "Using cached mlflow_skinny-3.4.0-py3-none-any.whl (2.2 MB)\n",
      "Using cached mlflow_tracing-3.4.0-py3-none-any.whl (1.2 MB)\n",
      "Using cached flask-2.3.3-py3-none-any.whl (96 kB)\n",
      "Using cached mlxtend-0.23.4-py3-none-any.whl (1.4 MB)\n",
      "Using cached moto-4.2.14-py2.py3-none-any.whl (3.3 MB)\n",
      "Using cached optuna-4.5.0-py3-none-any.whl (400 kB)\n",
      "Using cached scikit_learn_intelex-2025.8.0-py311-none-win_amd64.whl (3.1 MB)\n",
      "Using cached daal-2025.8.0-py2.py3-none-win_amd64.whl (82.2 MB)\n",
      "Using cached scikit_optimize-0.10.2-py2.py3-none-any.whl (107 kB)\n",
      "Using cached shap-0.44.1-cp311-cp311-win_amd64.whl (450 kB)\n",
      "Using cached statsforecast-1.5.0-py3-none-any.whl (99 kB)\n",
      "Using cached umap_learn-0.5.7-py3-none-any.whl (88 kB)\n",
      "Using cached ydata_profiling-4.16.1-py2.py3-none-any.whl (400 kB)\n",
      "Using cached ImageHash-4.3.1-py2.py3-none-any.whl (296 kB)\n",
      "Using cached optuna_integration-4.5.0-py3-none-any.whl (99 kB)\n",
      "Using cached adagio-0.2.6-py3-none-any.whl (19 kB)\n",
      "Using cached alembic-1.16.5-py3-none-any.whl (247 kB)\n",
      "Using cached botocore-1.40.35-py3-none-any.whl (14.0 MB)\n",
      "Using cached cryptography-45.0.7-cp311-abi3-win_amd64.whl (3.4 MB)\n",
      "Using cached dash-2.18.2-py3-none-any.whl (7.8 MB)\n",
      "Using cached dash_bootstrap_components-1.7.1-py3-none-any.whl (229 kB)\n",
      "Using cached docker-7.1.0-py3-none-any.whl (147 kB)\n",
      "Using cached dtreeviz-2.2.2-py3-none-any.whl (91 kB)\n",
      "Using cached fastmcp-2.12.3-py3-none-any.whl (314 kB)\n",
      "Using cached flask_wtf-1.2.2-py3-none-any.whl (12 kB)\n",
      "Using cached graphene-3.4.3-py2.py3-none-any.whl (114 kB)\n",
      "Using cached huggingface_hub-0.35.0-py3-none-any.whl (563 kB)\n",
      "Using cached iterative_telemetry-0.0.10-py3-none-any.whl (10 kB)\n",
      "Using cached jupyter_dash-0.4.2-py3-none-any.whl (23 kB)\n",
      "Using cached litestar-2.17.0-py3-none-any.whl (564 kB)\n",
      "Using cached llvmlite-0.44.0-cp311-cp311-win_amd64.whl (30.3 MB)\n",
      "Using cached multiprocess-0.70.18-py311-none-any.whl (144 kB)\n",
      "Using cached nltk-3.9.1-py3-none-any.whl (1.5 MB)\n",
      "Using cached percy-2.0.2-py2.py3-none-any.whl (12 kB)\n",
      "Using cached phik-0.12.5-cp311-cp311-win_amd64.whl (675 kB)\n",
      "Using cached pynndescent-0.5.13-py3-none-any.whl (56 kB)\n",
      "Using cached qpd-0.4.4-py3-none-any.whl (169 kB)\n",
      "Using cached responses-0.25.8-py3-none-any.whl (34 kB)\n",
      "Using cached s3transfer-0.14.0-py3-none-any.whl (85 kB)\n",
      "Using cached safehttpx-0.1.6-py3-none-any.whl (8.7 kB)\n",
      "Using cached seaborn-0.13.2-py3-none-any.whl (294 kB)\n",
      "Using cached selenium-4.2.0-py3-none-any.whl (983 kB)\n",
      "Using cached triad-0.9.8-py3-none-any.whl (62 kB)\n",
      "Using cached typer-0.19.1-py3-none-any.whl (46 kB)\n",
      "Using cached wordcloud-1.9.4-cp311-cp311-win_amd64.whl (299 kB)\n",
      "Using cached dash_auth-2.3.0-py3-none-any.whl (14 kB)\n",
      "Using cached flask_simplelogin-0.2.0-py3-none-any.whl (7.3 kB)\n",
      "Using cached authlib-1.6.4-py2.py3-none-any.whl (243 kB)\n",
      "Using cached cyclopts-3.24.0-py3-none-any.whl (86 kB)\n",
      "Using cached databricks_sdk-0.65.0-py3-none-any.whl (705 kB)\n",
      "Using cached gevent-25.9.1-cp311-cp311-win_amd64.whl (1.7 MB)\n",
      "Using cached graphql_relay-3.2.0-py3-none-any.whl (16 kB)\n",
      "Using cached mcp-1.14.1-py3-none-any.whl (163 kB)\n",
      "Using cached openapi_core-0.19.5-py3-none-any.whl (106 kB)\n",
      "Using cached openapi_pydantic-0.5.1-py3-none-any.whl (96 kB)\n",
      "Using cached opentelemetry_sdk-1.37.0-py3-none-any.whl (131 kB)\n",
      "Using cached opentelemetry_semantic_conventions-0.58b0-py3-none-any.whl (207 kB)\n",
      "Using cached salib-1.5.1-py3-none-any.whl (778 kB)\n",
      "Using cached trio_websocket-0.12.2-py3-none-any.whl (21 kB)\n",
      "Using cached fs-2.4.16-py2.py3-none-any.whl (135 kB)\n",
      "Using cached interpret_core-0.7.2-py3-none-any.whl (16.5 MB)\n",
      "Using cached rich_click-1.9.1-py3-none-any.whl (69 kB)\n",
      "Using cached visions-0.8.1-py3-none-any.whl (105 kB)\n",
      "Using cached email_validator-2.3.0-py3-none-any.whl (35 kB)\n",
      "Using cached google_auth-2.40.3-py2.py3-none-any.whl (216 kB)\n",
      "Using cached jsonschema_path-0.3.4-py3-none-any.whl (14 kB)\n",
      "Using cached openapi_schema_validator-0.6.3-py3-none-any.whl (8.8 kB)\n",
      "Using cached openapi_spec_validator-0.7.2-py3-none-any.whl (39 kB)\n",
      "Using cached pydantic_settings-2.10.1-py3-none-any.whl (45 kB)\n",
      "Using cached pyopenssl-25.3.0-py3-none-any.whl (57 kB)\n",
      "Using cached rich_rst-1.3.1-py3-none-any.whl (11 kB)\n",
      "Installing collected packages: multiprocess, llvmlite, graphql-relay, fs, email-validator, responses, percy, nltk, jsonschema-path, iterative-telemetry, imagehash, hyperopt, huggingface-hub, graphene, google-auth, gevent, flask, docker, dask, daal, cryptography, botocore, alembic, wordcloud, visions, typer, trio-websocket, triad, shap, seaborn, scikit-optimize, scikit-learn-intelex, SALib, safehttpx, s3transfer, rich-rst, rich-click, pyOpenSSL, pynndescent, pydantic-settings, phik, optuna, opentelemetry-semantic-conventions, openapi-pydantic, mlxtend, kmodes, interpret-core, gradio-client, flask-wtf, fastapi, fairlearn, dtreeviz, distributed, databricks-sdk, dash, catboost, authlib, umap-learn, optuna-integration, opentelemetry-sdk, openapi-schema-validator, mcp, litestar, jupyter-dash, gradio, fugue-sql-antlr, flask-simplelogin, dash-cytoscape, dash-bootstrap-components, dash-auth, cyclopts, boto3, adagio, ydata-profiling, selenium, qpd, openapi-spec-validator, moto, mlflow-tracing, mlflow-skinny, explainerdashboard, evidently, openapi-core, interpret, fugue, statsforecast, fastmcp, mlflow\n",
      "  Attempting uninstall: llvmlite\n",
      "    Found existing installation: llvmlite 0.45.0\n",
      "    Uninstalling llvmlite-0.45.0:\n",
      "      Successfully uninstalled llvmlite-0.45.0\n",
      "  Attempting uninstall: flask\n",
      "    Found existing installation: Flask 3.1.2\n",
      "    Uninstalling Flask-3.1.2:\n",
      "      Successfully uninstalled Flask-3.1.2\n",
      "  Attempting uninstall: dash\n",
      "    Found existing installation: dash 3.2.0\n",
      "    Uninstalling dash-3.2.0:\n",
      "      Successfully uninstalled dash-3.2.0\n",
      "Successfully installed SALib-1.5.1 adagio-0.2.6 alembic-1.16.5 authlib-1.6.4 boto3-1.40.35 botocore-1.40.35 catboost-1.2.8 cryptography-45.0.7 cyclopts-3.24.0 daal-2025.8.0 dash-2.18.2 dash-auth-2.3.0 dash-bootstrap-components-1.7.1 dash-cytoscape-1.0.2 dask-2025.9.1 databricks-sdk-0.65.0 distributed-2025.9.1 docker-7.1.0 dtreeviz-2.2.2 email-validator-2.3.0 evidently-0.4.40 explainerdashboard-0.5.1 fairlearn-0.7.0 fastapi-0.117.1 fastmcp-2.12.3 flask-2.3.3 flask-simplelogin-0.2.0 flask-wtf-1.2.2 fs-2.4.16 fugue-0.8.7 fugue-sql-antlr-0.2.2 gevent-25.9.1 google-auth-2.40.3 gradio-5.46.1 gradio-client-1.13.1 graphene-3.4.3 graphql-relay-3.2.0 huggingface-hub-0.35.0 hyperopt-0.2.7 imagehash-4.3.1 interpret-0.7.2 interpret-core-0.7.2 iterative-telemetry-0.0.10 jsonschema-path-0.3.4 jupyter-dash-0.4.2 kmodes-0.12.2 litestar-2.17.0 llvmlite-0.44.0 mcp-1.14.1 mlflow-3.4.0 mlflow-skinny-3.4.0 mlflow-tracing-3.4.0 mlxtend-0.23.4 moto-4.2.14 multiprocess-0.70.18 nltk-3.9.1 openapi-core-0.19.5 openapi-pydantic-0.5.1 openapi-schema-validator-0.6.3 openapi-spec-validator-0.7.2 opentelemetry-sdk-1.37.0 opentelemetry-semantic-conventions-0.58b0 optuna-4.5.0 optuna-integration-4.5.0 percy-2.0.2 phik-0.12.5 pyOpenSSL-25.3.0 pydantic-settings-2.10.1 pynndescent-0.5.13 qpd-0.4.4 responses-0.25.8 rich-click-1.9.1 rich-rst-1.3.1 s3transfer-0.14.0 safehttpx-0.1.6 scikit-learn-intelex-2025.8.0 scikit-optimize-0.10.2 seaborn-0.13.2 selenium-4.2.0 shap-0.44.1 statsforecast-1.5.0 triad-0.9.8 trio-websocket-0.12.2 typer-0.19.1 umap-learn-0.5.7 visions-0.8.1 wordcloud-1.9.4 ydata-profiling-4.16.1\n",
      "Note: you may need to restart the kernel to use updated packages.\n"
     ]
    },
    {
     "name": "stderr",
     "output_type": "stream",
     "text": [
      "WARNING: visions 0.8.1 does not provide the extra 'type_image_path'\n",
      "\n",
      "[notice] A new release of pip is available: 23.2.1 -> 25.2\n",
      "[notice] To update, run: python.exe -m pip install --upgrade pip\n"
     ]
    }
   ],
   "source": [
    "# Jalankan sel ini untuk menginstal semua library yang dibutuhkan\n",
    "%pip install pycaret[full] psycopg2-binary sqlalchemy"
   ]
  },
  {
   "cell_type": "markdown",
   "id": "29895307",
   "metadata": {},
   "source": [
    "##  Import Library dan Koneksi ke Database PostgreSQL"
   ]
  },
  {
   "cell_type": "code",
   "execution_count": 2,
   "id": "858bfd9d",
   "metadata": {},
   "outputs": [
    {
     "name": "stdout",
     "output_type": "stream",
     "text": [
      "Menghubungkan ke database...\n",
      "Data berhasil dimuat!\n",
      "Berikut adalah 5 baris pertama dari data Anda:\n"
     ]
    },
    {
     "data": {
      "text/html": [
       "<div>\n",
       "<style scoped>\n",
       "    .dataframe tbody tr th:only-of-type {\n",
       "        vertical-align: middle;\n",
       "    }\n",
       "\n",
       "    .dataframe tbody tr th {\n",
       "        vertical-align: top;\n",
       "    }\n",
       "\n",
       "    .dataframe thead th {\n",
       "        text-align: right;\n",
       "    }\n",
       "</style>\n",
       "<table border=\"1\" class=\"dataframe\">\n",
       "  <thead>\n",
       "    <tr style=\"text-align: right;\">\n",
       "      <th></th>\n",
       "      <th>id</th>\n",
       "      <th>Class</th>\n",
       "      <th>sepal length</th>\n",
       "      <th>sepal width</th>\n",
       "      <th>petal length</th>\n",
       "      <th>petal width</th>\n",
       "    </tr>\n",
       "  </thead>\n",
       "  <tbody>\n",
       "    <tr>\n",
       "      <th>0</th>\n",
       "      <td>1</td>\n",
       "      <td>Iris-setosa</td>\n",
       "      <td>5.1</td>\n",
       "      <td>3.5</td>\n",
       "      <td>1.4</td>\n",
       "      <td>0.2</td>\n",
       "    </tr>\n",
       "    <tr>\n",
       "      <th>1</th>\n",
       "      <td>2</td>\n",
       "      <td>Iris-setosa</td>\n",
       "      <td>4.9</td>\n",
       "      <td>3.0</td>\n",
       "      <td>1.4</td>\n",
       "      <td>0.2</td>\n",
       "    </tr>\n",
       "    <tr>\n",
       "      <th>2</th>\n",
       "      <td>3</td>\n",
       "      <td>Iris-setosa</td>\n",
       "      <td>4.7</td>\n",
       "      <td>3.2</td>\n",
       "      <td>1.3</td>\n",
       "      <td>0.2</td>\n",
       "    </tr>\n",
       "    <tr>\n",
       "      <th>3</th>\n",
       "      <td>4</td>\n",
       "      <td>Iris-setosa</td>\n",
       "      <td>4.6</td>\n",
       "      <td>3.1</td>\n",
       "      <td>1.5</td>\n",
       "      <td>0.2</td>\n",
       "    </tr>\n",
       "    <tr>\n",
       "      <th>4</th>\n",
       "      <td>5</td>\n",
       "      <td>Iris-setosa</td>\n",
       "      <td>5.0</td>\n",
       "      <td>3.6</td>\n",
       "      <td>1.4</td>\n",
       "      <td>0.2</td>\n",
       "    </tr>\n",
       "  </tbody>\n",
       "</table>\n",
       "</div>"
      ],
      "text/plain": [
       "   id        Class  sepal length  sepal width  petal length  petal width\n",
       "0   1  Iris-setosa           5.1          3.5           1.4          0.2\n",
       "1   2  Iris-setosa           4.9          3.0           1.4          0.2\n",
       "2   3  Iris-setosa           4.7          3.2           1.3          0.2\n",
       "3   4  Iris-setosa           4.6          3.1           1.5          0.2\n",
       "4   5  Iris-setosa           5.0          3.6           1.4          0.2"
      ]
     },
     "metadata": {},
     "output_type": "display_data"
    }
   ],
   "source": [
    "import pandas as pd\n",
    "from sqlalchemy import create_engine\n",
    "import os\n",
    "\n",
    "# --- GANTI DENGAN DETAIL DATABASE ANDA ---\n",
    "db_user = 'postgres'\n",
    "db_password = '123456789'\n",
    "db_host = 'localhost'  # atau alamat IP server database Anda\n",
    "db_port = '5432'\n",
    "db_name = 'iris_data'\n",
    "table_name = 'iris_data'\n",
    "# -----------------------------------------\n",
    "\n",
    "# Membuat koneksi string untuk SQLAlchemy\n",
    "db_uri = f\"postgresql+psycopg2://{db_user}:{db_password}@{db_host}:{db_port}/{db_name}\"\n",
    "\n",
    "# Memuat data dari PostgreSQL ke dalam DataFrame pandas\n",
    "try:\n",
    "    print(\"Menghubungkan ke database...\")\n",
    "    engine = create_engine(db_uri)\n",
    "    query = f\"SELECT * FROM {table_name}\"\n",
    "    df = pd.read_sql(query, engine)\n",
    "    print(\"Data berhasil dimuat!\")\n",
    "    print(\"Berikut adalah 5 baris pertama dari data Anda:\")\n",
    "    display(df.head())\n",
    "except Exception as e:\n",
    "    print(f\"Terjadi kesalahan saat menghubungkan atau mengambil data: {e}\")"
   ]
  },
  {
   "cell_type": "markdown",
   "id": "3f0f1d57",
   "metadata": {},
   "source": [
    "## Setup Environment PyCaret untuk Deteksi Anomali"
   ]
  },
  {
   "cell_type": "code",
   "execution_count": 3,
   "id": "36d6e9e5",
   "metadata": {},
   "outputs": [
    {
     "name": "stdout",
     "output_type": "stream",
     "text": [
      "Menyiapkan environment PyCaret untuk deteksi anomali...\n",
      "Setup selesai.\n"
     ]
    }
   ],
   "source": [
    "from pycaret.anomaly import *\n",
    "\n",
    "# Inisialisasi environment PyCaret untuk deteksi anomali\n",
    "# Ganti 'silent=True' dengan 'verbose=False'\n",
    "print(\"Menyiapkan environment PyCaret untuk deteksi anomali...\")\n",
    "anomaly_setup = setup(data=df, session_id=123, verbose=False)\n",
    "print(\"Setup selesai.\")"
   ]
  },
  {
   "cell_type": "markdown",
   "id": "5c740096",
   "metadata": {},
   "source": [
    "## Membuat Model Deteksi Outlier KNN"
   ]
  },
  {
   "cell_type": "code",
   "execution_count": 4,
   "id": "b3b38244",
   "metadata": {},
   "outputs": [
    {
     "name": "stdout",
     "output_type": "stream",
     "text": [
      "Membuat model KNN...\n"
     ]
    },
    {
     "data": {
      "text/html": [],
      "text/plain": [
       "<IPython.core.display.HTML object>"
      ]
     },
     "metadata": {},
     "output_type": "display_data"
    },
    {
     "data": {
      "text/html": [],
      "text/plain": [
       "<IPython.core.display.HTML object>"
      ]
     },
     "metadata": {},
     "output_type": "display_data"
    },
    {
     "data": {
      "text/html": [],
      "text/plain": [
       "<IPython.core.display.HTML object>"
      ]
     },
     "metadata": {},
     "output_type": "display_data"
    },
    {
     "name": "stdout",
     "output_type": "stream",
     "text": [
      "Model KNN berhasil dibuat:\n",
      "KNN(algorithm='auto', contamination=0.05, leaf_size=30, method='largest',\n",
      "  metric='minkowski', metric_params=None, n_jobs=-1, n_neighbors=5, p=2,\n",
      "  radius=1.0)\n"
     ]
    }
   ],
   "source": [
    "# Membuat model K-Nearest Neighbors (KNN) untuk deteksi outlier\n",
    "print(\"Membuat model KNN...\")\n",
    "knn_model = create_model('knn')\n",
    "print(\"Model KNN berhasil dibuat:\")\n",
    "print(knn_model)"
   ]
  },
  {
   "cell_type": "markdown",
   "id": "5d057460",
   "metadata": {},
   "source": [
    "## Memberi Label Outlier pada Data"
   ]
  },
  {
   "cell_type": "code",
   "execution_count": 5,
   "id": "e000fee5",
   "metadata": {},
   "outputs": [
    {
     "name": "stdout",
     "output_type": "stream",
     "text": [
      "Data setelah diberi label outlier:\n"
     ]
    },
    {
     "data": {
      "text/html": [
       "<div>\n",
       "<style scoped>\n",
       "    .dataframe tbody tr th:only-of-type {\n",
       "        vertical-align: middle;\n",
       "    }\n",
       "\n",
       "    .dataframe tbody tr th {\n",
       "        vertical-align: top;\n",
       "    }\n",
       "\n",
       "    .dataframe thead th {\n",
       "        text-align: right;\n",
       "    }\n",
       "</style>\n",
       "<table border=\"1\" class=\"dataframe\">\n",
       "  <thead>\n",
       "    <tr style=\"text-align: right;\">\n",
       "      <th></th>\n",
       "      <th>id</th>\n",
       "      <th>Class</th>\n",
       "      <th>sepal length</th>\n",
       "      <th>sepal width</th>\n",
       "      <th>petal length</th>\n",
       "      <th>petal width</th>\n",
       "      <th>Anomaly</th>\n",
       "      <th>Anomaly_Score</th>\n",
       "    </tr>\n",
       "  </thead>\n",
       "  <tbody>\n",
       "    <tr>\n",
       "      <th>0</th>\n",
       "      <td>1</td>\n",
       "      <td>Iris-setosa</td>\n",
       "      <td>5.1</td>\n",
       "      <td>3.5</td>\n",
       "      <td>1.4</td>\n",
       "      <td>0.2</td>\n",
       "      <td>1</td>\n",
       "      <td>5.037857</td>\n",
       "    </tr>\n",
       "    <tr>\n",
       "      <th>1</th>\n",
       "      <td>2</td>\n",
       "      <td>Iris-setosa</td>\n",
       "      <td>4.9</td>\n",
       "      <td>3.0</td>\n",
       "      <td>1.4</td>\n",
       "      <td>0.2</td>\n",
       "      <td>1</td>\n",
       "      <td>4.146083</td>\n",
       "    </tr>\n",
       "    <tr>\n",
       "      <th>2</th>\n",
       "      <td>3</td>\n",
       "      <td>Iris-setosa</td>\n",
       "      <td>4.7</td>\n",
       "      <td>3.2</td>\n",
       "      <td>1.3</td>\n",
       "      <td>0.2</td>\n",
       "      <td>0</td>\n",
       "      <td>3.190611</td>\n",
       "    </tr>\n",
       "    <tr>\n",
       "      <th>3</th>\n",
       "      <td>4</td>\n",
       "      <td>Iris-setosa</td>\n",
       "      <td>4.6</td>\n",
       "      <td>3.1</td>\n",
       "      <td>1.5</td>\n",
       "      <td>0.2</td>\n",
       "      <td>0</td>\n",
       "      <td>3.018278</td>\n",
       "    </tr>\n",
       "    <tr>\n",
       "      <th>4</th>\n",
       "      <td>5</td>\n",
       "      <td>Iris-setosa</td>\n",
       "      <td>5.0</td>\n",
       "      <td>3.6</td>\n",
       "      <td>1.4</td>\n",
       "      <td>0.2</td>\n",
       "      <td>0</td>\n",
       "      <td>3.008322</td>\n",
       "    </tr>\n",
       "  </tbody>\n",
       "</table>\n",
       "</div>"
      ],
      "text/plain": [
       "   id        Class  sepal length  sepal width  petal length  petal width  \\\n",
       "0   1  Iris-setosa           5.1          3.5           1.4          0.2   \n",
       "1   2  Iris-setosa           4.9          3.0           1.4          0.2   \n",
       "2   3  Iris-setosa           4.7          3.2           1.3          0.2   \n",
       "3   4  Iris-setosa           4.6          3.1           1.5          0.2   \n",
       "4   5  Iris-setosa           5.0          3.6           1.4          0.2   \n",
       "\n",
       "   Anomaly  Anomaly_Score  \n",
       "0        1       5.037857  \n",
       "1        1       4.146083  \n",
       "2        0       3.190611  \n",
       "3        0       3.018278  \n",
       "4        0       3.008322  "
      ]
     },
     "metadata": {},
     "output_type": "display_data"
    },
    {
     "name": "stdout",
     "output_type": "stream",
     "text": [
      "\n",
      "Jumlah Inlier (0) dan Outlier (1):\n",
      "Anomaly\n",
      "0    142\n",
      "1      8\n",
      "Name: count, dtype: int64\n"
     ]
    }
   ],
   "source": [
    "# Menggunakan model untuk melabeli data\n",
    "results_anomaly = assign_model(knn_model)\n",
    "\n",
    "print(\"Data setelah diberi label outlier:\")\n",
    "display(results_anomaly.head())\n",
    "\n",
    "# Menghitung jumlah inlier dan outlier yang ditemukan\n",
    "print(\"\\nJumlah Inlier (0) dan Outlier (1):\")\n",
    "print(results_anomaly['Anomaly'].value_counts())"
   ]
  },
  {
   "cell_type": "markdown",
   "id": "3ad5751e",
   "metadata": {},
   "source": [
    "## Visualisasi Hasil Deteksi Outlier"
   ]
  },
  {
   "cell_type": "code",
   "execution_count": 22,
   "id": "617920cf",
   "metadata": {},
   "outputs": [],
   "source": [
    "import pandas as pd\n",
    "import numpy as np\n",
    "import seaborn as sns\n",
    "import matplotlib.pyplot as plt\n",
    "from sklearn.neighbors import LocalOutlierFactor # Model deteksi outlier yang mirip KNN\n",
    "from sklearn.manifold import TSNE\n",
    "from sklearn.preprocessing import StandardScaler\n",
    "from sklearn.datasets import make_blobs"
   ]
  },
  {
   "cell_type": "code",
   "execution_count": 23,
   "id": "14f6349c",
   "metadata": {},
   "outputs": [],
   "source": [
    "# --- Langkah 1: Mempersiapkan Data dan Model ---\n",
    "\n",
    "# Membuat data contoh: 300 titik data normal dan 20 titik outlier\n",
    "# 'make_blobs' membuat gerombolan data yang bagus untuk visualisasi\n",
    "X_normal, y_normal = make_blobs(n_samples=300, centers=2, cluster_std=1.5, random_state=42)\n",
    "\n",
    "# Menambahkan beberapa titik outlier yang jauh dari gerombolan utama\n",
    "rng = np.random.RandomState(42)\n",
    "X_outliers = rng.uniform(low=-10, high=10, size=(20, 2))\n",
    "\n",
    "# Menggabungkan data normal dan outlier\n",
    "X = np.vstack([X_normal, X_outliers])\n",
    "# Membuat label: 0 untuk data normal (inlier), 1 untuk data aneh (outlier)\n",
    "# Ini adalah \"jawaban\" yang sebenarnya, kita akan lihat apakah model bisa menemukannya\n",
    "y_true = np.hstack([np.zeros(len(X_normal)), np.ones(len(X_outliers))])\n",
    "\n",
    "# Normalisasi data sangat direkomendasikan sebelum t-SNE dan model outlier\n",
    "X_scaled = StandardScaler().fit_transform(X)\n",
    "\n",
    "# Membuat dan melatih model deteksi outlier (mirip dengan model KNN Anda)\n",
    "# 'LocalOutlierFactor' bekerja dengan membandingkan kepadatan lokal suatu titik dengan tetangganya\n",
    "lof_model = LocalOutlierFactor(n_neighbors=20, contamination=0.1) # Asumsi 10% data adalah outlier\n",
    "y_pred = lof_model.fit_predict(X_scaled)\n",
    "\n",
    "# Mengubah hasil prediksi menjadi format yang lebih mudah dibaca\n",
    "# Model ini memberi label -1 untuk outlier dan 1 untuk inlier, kita ubah ke 1 dan 0\n",
    "outlier_labels = pd.Series(y_pred).apply(lambda x: 1 if x == -1 else 0)\n"
   ]
  },
  {
   "cell_type": "code",
   "execution_count": 24,
   "id": "2575a77c",
   "metadata": {},
   "outputs": [],
   "source": [
    "# --- Langkah 2: Menjalankan t-SNE ---\n",
    "\n",
    "# t-SNE akan mengubah data kita dari banyak fitur menjadi hanya 2 (koordinat x dan y)\n",
    "tsne = TSNE(n_components=2, perplexity=30, random_state=42, n_iter=1000)\n",
    "X_tsne = tsne.fit_transform(X_scaled)\n",
    "\n",
    "# Menggabungkan hasil t-SNE dengan label outlier ke dalam satu DataFrame\n",
    "df_tsne = pd.DataFrame(X_tsne, columns=['x_tsne', 'y_tsne'])\n",
    "df_tsne['Status'] = outlier_labels.apply(lambda x: 'Outlier (Terdeteksi)' if x == 1 else 'Normal')"
   ]
  },
  {
   "cell_type": "code",
   "execution_count": 25,
   "id": "84f145c8",
   "metadata": {},
   "outputs": [
    {
     "data": {
      "image/png": "[encoded data removed]",
      "text/plain": [
       "<Figure size 1200x800 with 1 Axes>"
      ]
     },
     "metadata": {},
     "output_type": "display_data"
    }
   ],
   "source": [
    "# --- Langkah 3: Membuat Visualisasi yang Lebih Mudah Dipahami ---\n",
    "\n",
    "plt.style.use('seaborn-v0_8-whitegrid') # Menggunakan style plot yang bagus\n",
    "plt.figure(figsize=(12, 8)) # Mengatur ukuran gambar agar lebih besar\n",
    "\n",
    "# Membuat scatter plot menggunakan Seaborn\n",
    "# 'hue' akan secara otomatis mewarnai titik berdasarkan kolom 'Status'\n",
    "# 'palette' mengatur warna yang akan digunakan\n",
    "# 'style' memberikan bentuk yang berbeda untuk setiap status\n",
    "sns.scatterplot(\n",
    "    data=df_tsne,\n",
    "    x='x_tsne',\n",
    "    y='y_tsne',\n",
    "    hue='Status',\n",
    "    style='Status',\n",
    "    palette={'Normal': 'skyblue', 'Outlier (Terdeteksi)': 'red'},\n",
    "    s=80, # Ukuran titik\n",
    "    alpha=0.8 # Transparansi titik\n",
    ")\n",
    "\n",
    "# Menambahkan judul dan label yang jelas\n",
    "plt.title('Visualisasi Outlier Menggunakan t-SNE', fontsize=16, fontweight='bold')\n",
    "plt.xlabel('Komponen t-SNE 1', fontsize=12)\n",
    "plt.ylabel('Komponen t-SNE 2', fontsize=12)\n",
    "plt.legend(title='Status Data', loc='best') # Menampilkan legenda\n",
    "\n",
    "# Menambahkan teks penjelasan langsung di plot\n",
    "plt.text(0.95, 0.05,\n",
    "         'Titik-titik yang bergerombol adalah data normal.\\nTitik merah adalah data yang terdeteksi sebagai outlier\\nkarena perilakunya berbeda dari mayoritas.',\n",
    "         fontsize=10,\n",
    "         style='italic',\n",
    "         ha='right', # Rata kanan\n",
    "         va='bottom', # Rata bawah\n",
    "         transform=plt.gca().transAxes, # Posisi relatif terhadap axes plot\n",
    "         bbox=dict(boxstyle='round,pad=0.5', fc='wheat', alpha=0.5))\n",
    "\n",
    "plt.show() # Menampilkan plot\n"
   ]
  },
  {
   "cell_type": "markdown",
   "id": "8d8a50fc",
   "metadata": {},
   "source": [
    "## Setup Environment PyCaret untuk Clustering"
   ]
  },
  {
   "cell_type": "code",
   "execution_count": 8,
   "id": "d7d5d8a8",
   "metadata": {},
   "outputs": [
    {
     "name": "stdout",
     "output_type": "stream",
     "text": [
      "Menyiapkan environment PyCaret untuk clustering...\n",
      "Setup selesai.\n"
     ]
    }
   ],
   "source": [
    "from pycaret.clustering import *\n",
    "\n",
    "# Inisialisasi environment PyCaret untuk clustering\n",
    "# Ganti 'silent=True' dengan 'verbose=False'\n",
    "print(\"Menyiapkan environment PyCaret untuk clustering...\")\n",
    "clustering_setup = setup(data=df, session_id=456, verbose=False)\n",
    "print(\"Setup selesai.\")"
   ]
  },
  {
   "cell_type": "markdown",
   "id": "7733a5a5",
   "metadata": {},
   "source": [
    "## Membuat Model Clustering K-Means"
   ]
  },
  {
   "cell_type": "code",
   "execution_count": 9,
   "id": "5e06e3aa",
   "metadata": {},
   "outputs": [
    {
     "name": "stdout",
     "output_type": "stream",
     "text": [
      "Membuat model K-Means...\n"
     ]
    },
    {
     "data": {
      "text/html": [],
      "text/plain": [
       "<IPython.core.display.HTML object>"
      ]
     },
     "metadata": {},
     "output_type": "display_data"
    },
    {
     "data": {
      "text/html": [
       "<style type=\"text/css\">\n",
       "</style>\n",
       "<table id=\"T_a75f0\">\n",
       "  <thead>\n",
       "    <tr>\n",
       "      <th class=\"blank level0\" >&nbsp;</th>\n",
       "      <th id=\"T_a75f0_level0_col0\" class=\"col_heading level0 col0\" >Silhouette</th>\n",
       "      <th id=\"T_a75f0_level0_col1\" class=\"col_heading level0 col1\" >Calinski-Harabasz</th>\n",
       "      <th id=\"T_a75f0_level0_col2\" class=\"col_heading level0 col2\" >Davies-Bouldin</th>\n",
       "      <th id=\"T_a75f0_level0_col3\" class=\"col_heading level0 col3\" >Homogeneity</th>\n",
       "      <th id=\"T_a75f0_level0_col4\" class=\"col_heading level0 col4\" >Rand Index</th>\n",
       "      <th id=\"T_a75f0_level0_col5\" class=\"col_heading level0 col5\" >Completeness</th>\n",
       "    </tr>\n",
       "  </thead>\n",
       "  <tbody>\n",
       "    <tr>\n",
       "      <th id=\"T_a75f0_level0_row0\" class=\"row_heading level0 row0\" >0</th>\n",
       "      <td id=\"T_a75f0_row0_col0\" class=\"data row0 col0\" >0.5560</td>\n",
       "      <td id=\"T_a75f0_row0_col1\" class=\"data row0 col1\" >717.9069</td>\n",
       "      <td id=\"T_a75f0_row0_col2\" class=\"data row0 col2\" >0.5092</td>\n",
       "      <td id=\"T_a75f0_row0_col3\" class=\"data row0 col3\" >0</td>\n",
       "      <td id=\"T_a75f0_row0_col4\" class=\"data row0 col4\" >0</td>\n",
       "      <td id=\"T_a75f0_row0_col5\" class=\"data row0 col5\" >0</td>\n",
       "    </tr>\n",
       "  </tbody>\n",
       "</table>\n"
      ],
      "text/plain": [
       "<pandas.io.formats.style.Styler at 0x17327e1e890>"
      ]
     },
     "metadata": {},
     "output_type": "display_data"
    },
    {
     "data": {
      "text/html": [],
      "text/plain": [
       "<IPython.core.display.HTML object>"
      ]
     },
     "metadata": {},
     "output_type": "display_data"
    },
    {
     "name": "stdout",
     "output_type": "stream",
     "text": [
      "Model K-Means berhasil dibuat:\n",
      "KMeans(n_clusters=4, random_state=456)\n"
     ]
    }
   ],
   "source": [
    "# Membuat model K-Means dengan 4 cluster\n",
    "print(\"Membuat model K-Means...\")\n",
    "kmeans_model = create_model('kmeans', num_clusters=4)\n",
    "print(\"Model K-Means berhasil dibuat:\")\n",
    "print(kmeans_model)"
   ]
  },
  {
   "cell_type": "markdown",
   "id": "699b16a8",
   "metadata": {},
   "source": [
    "## Memberi Label Cluster pada Data"
   ]
  },
  {
   "cell_type": "code",
   "execution_count": 10,
   "id": "c3d46f8d",
   "metadata": {},
   "outputs": [
    {
     "name": "stdout",
     "output_type": "stream",
     "text": [
      "Data setelah diberi label cluster:\n"
     ]
    },
    {
     "data": {
      "text/html": [
       "<div>\n",
       "<style scoped>\n",
       "    .dataframe tbody tr th:only-of-type {\n",
       "        vertical-align: middle;\n",
       "    }\n",
       "\n",
       "    .dataframe tbody tr th {\n",
       "        vertical-align: top;\n",
       "    }\n",
       "\n",
       "    .dataframe thead th {\n",
       "        text-align: right;\n",
       "    }\n",
       "</style>\n",
       "<table border=\"1\" class=\"dataframe\">\n",
       "  <thead>\n",
       "    <tr style=\"text-align: right;\">\n",
       "      <th></th>\n",
       "      <th>id</th>\n",
       "      <th>Class</th>\n",
       "      <th>sepal length</th>\n",
       "      <th>sepal width</th>\n",
       "      <th>petal length</th>\n",
       "      <th>petal width</th>\n",
       "      <th>Cluster</th>\n",
       "    </tr>\n",
       "  </thead>\n",
       "  <tbody>\n",
       "    <tr>\n",
       "      <th>0</th>\n",
       "      <td>1</td>\n",
       "      <td>Iris-setosa</td>\n",
       "      <td>5.1</td>\n",
       "      <td>3.5</td>\n",
       "      <td>1.4</td>\n",
       "      <td>0.2</td>\n",
       "      <td>Cluster 3</td>\n",
       "    </tr>\n",
       "    <tr>\n",
       "      <th>1</th>\n",
       "      <td>2</td>\n",
       "      <td>Iris-setosa</td>\n",
       "      <td>4.9</td>\n",
       "      <td>3.0</td>\n",
       "      <td>1.4</td>\n",
       "      <td>0.2</td>\n",
       "      <td>Cluster 3</td>\n",
       "    </tr>\n",
       "    <tr>\n",
       "      <th>2</th>\n",
       "      <td>3</td>\n",
       "      <td>Iris-setosa</td>\n",
       "      <td>4.7</td>\n",
       "      <td>3.2</td>\n",
       "      <td>1.3</td>\n",
       "      <td>0.2</td>\n",
       "      <td>Cluster 3</td>\n",
       "    </tr>\n",
       "    <tr>\n",
       "      <th>3</th>\n",
       "      <td>4</td>\n",
       "      <td>Iris-setosa</td>\n",
       "      <td>4.6</td>\n",
       "      <td>3.1</td>\n",
       "      <td>1.5</td>\n",
       "      <td>0.2</td>\n",
       "      <td>Cluster 3</td>\n",
       "    </tr>\n",
       "    <tr>\n",
       "      <th>4</th>\n",
       "      <td>5</td>\n",
       "      <td>Iris-setosa</td>\n",
       "      <td>5.0</td>\n",
       "      <td>3.6</td>\n",
       "      <td>1.4</td>\n",
       "      <td>0.2</td>\n",
       "      <td>Cluster 3</td>\n",
       "    </tr>\n",
       "  </tbody>\n",
       "</table>\n",
       "</div>"
      ],
      "text/plain": [
       "   id        Class  sepal length  sepal width  petal length  petal width  \\\n",
       "0   1  Iris-setosa           5.1          3.5           1.4          0.2   \n",
       "1   2  Iris-setosa           4.9          3.0           1.4          0.2   \n",
       "2   3  Iris-setosa           4.7          3.2           1.3          0.2   \n",
       "3   4  Iris-setosa           4.6          3.1           1.5          0.2   \n",
       "4   5  Iris-setosa           5.0          3.6           1.4          0.2   \n",
       "\n",
       "     Cluster  \n",
       "0  Cluster 3  \n",
       "1  Cluster 3  \n",
       "2  Cluster 3  \n",
       "3  Cluster 3  \n",
       "4  Cluster 3  "
      ]
     },
     "metadata": {},
     "output_type": "display_data"
    },
    {
     "name": "stdout",
     "output_type": "stream",
     "text": [
      "\n",
      "Jumlah data per cluster:\n",
      "Cluster\n",
      "Cluster 2    40\n",
      "Cluster 1    38\n",
      "Cluster 3    36\n",
      "Cluster 0    36\n",
      "Name: count, dtype: int64\n"
     ]
    }
   ],
   "source": [
    "# Menambahkan label cluster ke data asli\n",
    "results_cluster = assign_model(kmeans_model)\n",
    "\n",
    "print(\"Data setelah diberi label cluster:\")\n",
    "display(results_cluster.head())\n",
    "\n",
    "# Menghitung jumlah anggota di setiap cluster\n",
    "print(\"\\nJumlah data per cluster:\")\n",
    "print(results_cluster['Cluster'].value_counts())"
   ]
  },
  {
   "cell_type": "markdown",
   "id": "5cc8b01a",
   "metadata": {},
   "source": [
    "## Visualisasi Hasil Clustering"
   ]
  },
  {
   "cell_type": "code",
   "execution_count": 11,
   "id": "f72380f0",
   "metadata": {},
   "outputs": [
    {
     "data": {
      "text/html": [],
      "text/plain": [
       "<IPython.core.display.HTML object>"
      ]
     },
     "metadata": {},
     "output_type": "display_data"
    },
    {
     "data": {
      "application/vnd.plotly.v1+json": {
       "config": {
        "plotlyServerURL": "https://plot.ly"
       },
       "data": [
        {
         "customdata": [
          [
           56
          ],
          [
           51
          ],
          [
           50
          ],
          [
           49
          ],
          [
           48
          ],
          [
           47
          ],
          [
           46
          ],
          [
           52
          ],
          [
           45
          ],
          [
           43
          ],
          [
           42
          ],
          [
           41
          ],
          [
           40
          ],
          [
           39
          ],
          [
           38
          ],
          [
           44
          ],
          [
           37
          ],
          [
           53
          ],
          [
           55
          ],
          [
           70
          ],
          [
           69
          ],
          [
           68
          ],
          [
           67
          ],
          [
           66
          ],
          [
           65
          ],
          [
           54
          ],
          [
           64
          ],
          [
           62
          ],
          [
           61
          ],
          [
           60
          ],
          [
           59
          ],
          [
           58
          ],
          [
           57
          ],
          [
           63
          ],
          [
           71
          ],
          [
           72
          ]
         ],
         "hovertemplate": "Cluster=Cluster 0<br>PCA1=%{x}<br>PCA2=%{y}<br>Feature=%{customdata[0]}<extra></extra>",
         "legendgroup": "Cluster 0",
         "marker": {
          "color": "#1F77B4",
          "opacity": 0.5,
          "symbol": "circle"
         },
         "mode": "markers",
         "name": "Cluster 0",
         "orientation": "v",
         "showlegend": true,
         "textposition": "top center",
         "type": "scatter",
         "x": [
          19.45430703066199,
          24.42465634570887,
          25.597519738047982,
          26.590478471215455,
          27.600691250017267,
          28.58812841692775,
          29.59369223340283,
          23.439385187939564,
          30.57232402201133,
          32.60226955020925,
          33.59480692788128,
          34.591791039022894,
          35.583494035715006,
          36.59768695656432,
          37.58472046695718,
          31.57914357720207,
          38.58275291052533,
          22.418773384831155,
          20.435691311024026,
          5.4924054105881295,
          6.454254380773466,
          7.4829853756067575,
          8.463727246101332,
          9.453317005826108,
          10.496846635039196,
          21.471077922232624,
          11.448072807972709,
          13.465644016776537,
          14.50600405484554,
          15.484449414257627,
          16.44167084528919,
          17.51328142352389,
          18.437137520153726,
          12.477117562485368,
          4.4487233138065205,
          3.4819187377736247
         ],
         "xaxis": "x",
         "y": [
          1.586951901365989,
          2.5328979446991164,
          -1.6977661396230856,
          -1.465549487539499,
          -1.7892704641605068,
          -1.3992422882602928,
          -1.581758308627642,
          2.0925933032632043,
          -1.0265601619280629,
          -1.7547305532752382,
          -1.5947690918454114,
          -1.395960566930756,
          -1.1729254072943247,
          -1.5815142093302423,
          -1.191108326157309,
          -1.1998948074068712,
          -1.0373221864510138,
          2.5979747331225678,
          2.1162460721603114,
          0.45993933750551375,
          1.3667289549501804,
          0.7520085604610778,
          1.1378304946610942,
          1.5569136352724287,
          0.4560108825424033,
          1.2085018181621225,
          1.62021523222172,
          1.2360165633914022,
          0.24072756182523286,
          0.7567016778207828,
          1.9399751907034188,
          0.13757754469040878,
          2.02507200931886,
          0.9915152908641721,
          1.4161203318359534,
          0.7176804685073034
         ],
         "yaxis": "y"
        },
        {
         "customdata": [
          [
           77
          ],
          [
           96
          ],
          [
           97
          ],
          [
           98
          ],
          [
           99
          ],
          [
           100
          ],
          [
           101
          ],
          [
           73
          ],
          [
           102
          ],
          [
           104
          ],
          [
           105
          ],
          [
           106
          ],
          [
           107
          ],
          [
           108
          ],
          [
           109
          ],
          [
           103
          ],
          [
           95
          ],
          [
           94
          ],
          [
           93
          ],
          [
           78
          ],
          [
           79
          ],
          [
           80
          ],
          [
           81
          ],
          [
           82
          ],
          [
           83
          ],
          [
           84
          ],
          [
           85
          ],
          [
           86
          ],
          [
           87
          ],
          [
           88
          ],
          [
           89
          ],
          [
           90
          ],
          [
           91
          ],
          [
           92
          ],
          [
           76
          ],
          [
           74
          ],
          [
           75
          ],
          [
           110
          ]
         ],
         "hovertemplate": "Cluster=Cluster 1<br>PCA1=%{x}<br>PCA2=%{y}<br>Feature=%{customdata[0]}<extra></extra>",
         "legendgroup": "Cluster 1",
         "marker": {
          "color": "#FF7F0E",
          "opacity": 0.5,
          "symbol": "circle"
         },
         "mode": "markers",
         "name": "Cluster 1",
         "orientation": "v",
         "showlegend": true,
         "textposition": "top center",
         "type": "scatter",
         "x": [
          -1.553152141208213,
          -20.494676824704193,
          -21.495705817319593,
          -22.505170508756226,
          -23.441042485920768,
          -24.48967704319346,
          -25.590859935507122,
          2.443533978559337,
          -26.54373478971402,
          -28.564213122233323,
          -29.579086132234337,
          -30.620249762473712,
          -31.50283999084564,
          -32.59916528592126,
          -33.573692965529474,
          -27.591178807003278,
          -19.497028075231917,
          -18.45437750388528,
          -17.493304164317344,
          -2.5619517131699316,
          -3.5307644116006065,
          -4.483176851355999,
          -5.492621564220875,
          -6.486511112290996,
          -7.498797195488523,
          -8.549901713953748,
          -9.516489635466852,
          -10.5237295319528,
          -11.539119424451693,
          -12.521972844593094,
          -13.497938513703872,
          -14.494025319627402,
          -15.505435641694955,
          -16.521422153806345,
          -0.5362407783861899,
          1.4603086226204942,
          0.47030977809743785,
          -34.59701888638758
         ],
         "xaxis": "x",
         "y": [
          1.4887381494037728,
          -0.31350377517467753,
          -0.32227481750033027,
          -0.06075546082324683,
          -1.6561160873299927,
          -0.5182569010723977,
          1.2571241870827616,
          1.5506586223842,
          0.15175558953853574,
          0.6534260134105578,
          0.9613941063131901,
          2.0200847257232692,
          -0.971285072966631,
          1.4927127389754653,
          0.808923147118719,
          1.362820298133667,
          -0.27482382429867286,
          -1.274794552154241,
          -0.2846301261618615,
          1.631273799881037,
          0.8338901812512337,
          -0.25155524330522344,
          -0.10552014304549193,
          -0.2521125880107608,
          0.0366883245501879,
          1.1449982362514985,
          0.31763882408733723,
          0.5491819953529871,
          0.9688901033615585,
          0.5016816301871334,
          -0.126721704726421,
          -0.2645110265533419,
          -0.01898865164685076,
          0.3980253510740366,
          1.1115700436082179,
          1.166446263141799,
          0.9625296253224795,
          1.355693651655656
         ],
         "yaxis": "y"
        },
        {
         "customdata": [
          [
           133
          ],
          [
           134
          ],
          [
           135
          ],
          [
           136
          ],
          [
           137
          ],
          [
           138
          ],
          [
           139
          ],
          [
           132
          ],
          [
           114
          ],
          [
           142
          ],
          [
           143
          ],
          [
           144
          ],
          [
           145
          ],
          [
           146
          ],
          [
           147
          ],
          [
           148
          ],
          [
           141
          ],
          [
           140
          ],
          [
           131
          ],
          [
           129
          ],
          [
           113
          ],
          [
           115
          ],
          [
           116
          ],
          [
           117
          ],
          [
           118
          ],
          [
           119
          ],
          [
           120
          ],
          [
           121
          ],
          [
           122
          ],
          [
           123
          ],
          [
           124
          ],
          [
           125
          ],
          [
           126
          ],
          [
           127
          ],
          [
           128
          ],
          [
           130
          ],
          [
           112
          ],
          [
           150
          ],
          [
           149
          ],
          [
           111
          ]
         ],
         "hovertemplate": "Cluster=Cluster 2<br>PCA1=%{x}<br>PCA2=%{y}<br>Feature=%{customdata[0]}<extra></extra>",
         "legendgroup": "Cluster 2",
         "marker": {
          "color": "#2CA02C",
          "opacity": 0.5,
          "symbol": "circle"
         },
         "mode": "markers",
         "name": "Cluster 2",
         "orientation": "v",
         "showlegend": true,
         "textposition": "top center",
         "type": "scatter",
         "x": [
          -57.544821877406925,
          -58.51353387052283,
          -59.52698625066264,
          -60.57843780266885,
          -61.540446239284734,
          -62.52899321755257,
          -63.49789535304061,
          -56.58779670467674,
          -38.52979076199875,
          -66.52559675926572,
          -67.50489476645478,
          -68.55060766144649,
          -69.54389029438843,
          -70.52305622557611,
          -71.50514384452741,
          -72.51369123806403,
          -65.54330975562704,
          -64.53508255915084,
          -55.57355201020117,
          -53.547031495015425,
          -37.56327457927964,
          -39.53892125467067,
          -40.55016883065859,
          -41.55064924952277,
          -42.61223749602573,
          -43.62479674865075,
          -44.521495694706545,
          -45.56659468410333,
          -46.51607305305246,
          -47.60830822015239,
          -48.520975692885735,
          -49.55651804291667,
          -50.56880741053244,
          -51.51278788871268,
          -52.51326503075658,
          -54.55548519635791,
          -36.54962280605722,
          -74.49685960820113,
          -73.51896610124362,
          -35.54436518445921
         ],
         "xaxis": "x",
         "y": [
          -0.36870861643290115,
          -1.0366781868460901,
          -0.7846024703970733,
          0.5015213943441936,
          -0.5549831012916306,
          -0.7733185264581487,
          -1.543158562927131,
          0.8691465454646115,
          -0.4224749117608359,
          -0.8987574468716144,
          -1.5136086770736268,
          -0.39391646693391025,
          -0.5904752788731091,
          -1.0654204177113515,
          -1.522197957470522,
          -1.3151440431803796,
          -0.5232327076815719,
          -0.6319821016250718,
          0.4758652197077961,
          -0.23271083101373816,
          0.5050610694283502,
          -0.24927389509914805,
          0.08831024985037846,
          0.1295718808894002,
          1.6401958306689013,
          1.8494990758338659,
          -0.6488733658820616,
          0.425845840964613,
          -0.8875618307208486,
          1.4378580301329291,
          -0.7046848082066267,
          0.1159905516507825,
          0.46244470472266347,
          -0.9559369548991496,
          -0.9723283876403195,
          0.09876434640539174,
          0.17173230852088833,
          -1.7960005034068272,
          -1.2724059654330278,
          0.09750682078500815
         ],
         "yaxis": "y"
        },
        {
         "customdata": [
          [
           3
          ],
          [
           17
          ],
          [
           16
          ],
          [
           15
          ],
          [
           14
          ],
          [
           13
          ],
          [
           12
          ],
          [
           2
          ],
          [
           11
          ],
          [
           9
          ],
          [
           8
          ],
          [
           7
          ],
          [
           6
          ],
          [
           5
          ],
          [
           4
          ],
          [
           18
          ],
          [
           10
          ],
          [
           19
          ],
          [
           21
          ],
          [
           36
          ],
          [
           35
          ],
          [
           34
          ],
          [
           33
          ],
          [
           32
          ],
          [
           31
          ],
          [
           30
          ],
          [
           29
          ],
          [
           28
          ],
          [
           27
          ],
          [
           26
          ],
          [
           25
          ],
          [
           24
          ],
          [
           23
          ],
          [
           22
          ],
          [
           20
          ],
          [
           1
          ]
         ],
         "hovertemplate": "Cluster=Cluster 3<br>PCA1=%{x}<br>PCA2=%{y}<br>Feature=%{customdata[0]}<extra></extra>",
         "legendgroup": "Cluster 3",
         "marker": {
          "color": "#D62728",
          "opacity": 0.5,
          "symbol": "circle"
         },
         "mode": "markers",
         "name": "Cluster 3",
         "orientation": "v",
         "showlegend": true,
         "textposition": "top center",
         "type": "scatter",
         "x": [
          72.56027974323544,
          58.56359960289934,
          59.5533715161567,
          60.56338160502171,
          61.58411633743155,
          62.56559005281945,
          63.55748275564596,
          73.55222420760539,
          64.55311470042592,
          66.56528727879058,
          67.5545455716717,
          68.56106489900617,
          69.53884515889028,
          70.55608042837859,
          71.55502912433124,
          57.56505354534944,
          65.55819557302404,
          56.54824617544647,
          54.554230917696934,
          39.59102760072283,
          40.58187851403578,
          41.57910409948509,
          42.57985339186943,
          43.56865908528963,
          44.5742918057174,
          45.5751068570552,
          46.57529132870916,
          47.57115718464638,
          48.56580181791521,
          49.566427155543046,
          50.559047426770974,
          51.556034364437245,
          52.592928899917986,
          53.5644730009039,
          55.56455467729114,
          74.5505287962963
         ],
         "xaxis": "x",
         "y": [
          0.0035992810234002502,
          -0.23800752621922977,
          0.06833518273577728,
          -0.11647917718007911,
          -0.7960472144164257,
          -0.29429664857356835,
          -0.08969052398596937,
          0.2235132077078617,
          0.12248692657061627,
          -0.2780869521164354,
          0.08234302403095942,
          -0.10817123722796117,
          0.5267861347996116,
          0.1139600239649517,
          0.08281777494557772,
          -0.3377066090870494,
          -0.05378638798314942,
          0.1112221740503749,
          -0.10859250736022673,
          -1.282728498435788,
          -1.0692524042100777,
          -0.8735653265466431,
          -0.9081398085146096,
          -0.6614383820467711,
          -0.845332017892805,
          -0.8546125560924377,
          -0.76108944417904,
          -0.6463445343319594,
          -0.5569605154389574,
          -0.5478117914853061,
          -0.37924148678269687,
          -0.2792317357761213,
          -1.1132765169367786,
          -0.4049490618385677,
          -0.35555940253588764,
          0.3263335402782046
         ],
         "yaxis": "y"
        }
       ],
       "layout": {
        "height": 600,
        "legend": {
         "title": {
          "text": "Cluster"
         },
         "tracegroupgap": 0
        },
        "margin": {
         "t": 60
        },
        "plot_bgcolor": "rgb(240,240,240)",
        "template": {
         "data": {
          "scatter": [
           {
            "type": "scatter"
           }
          ]
         }
        },
        "title": {
         "text": "2D Cluster PCA Plot"
        },
        "xaxis": {
         "anchor": "y",
         "domain": [
          0,
          1
         ],
         "title": {
          "text": "PCA1"
         }
        },
        "yaxis": {
         "anchor": "x",
         "domain": [
          0,
          1
         ],
         "title": {
          "text": "PCA2"
         }
        }
       }
      }
     },
     "metadata": {},
     "output_type": "display_data"
    }
   ],
   "source": [
    "# Visualisasi 2D dari cluster yang terbentuk\n",
    "# Plot ini mengurangi dimensi data (biasanya dengan PCA) untuk menampilkannya dalam 2D\n",
    "plot_model(kmeans_model, plot='cluster')"
   ]
  },
  {
   "cell_type": "markdown",
   "id": "93a4f201",
   "metadata": {},
   "source": [
    "## Visualisasi Tambahan untuk Evaluasi Cluster"
   ]
  },
  {
   "cell_type": "code",
   "execution_count": 12,
   "id": "6791a305",
   "metadata": {},
   "outputs": [
    {
     "data": {
      "text/html": [],
      "text/plain": [
       "<IPython.core.display.HTML object>"
      ]
     },
     "metadata": {},
     "output_type": "display_data"
    },
    {
     "data": {
      "image/png": "[encoded data removed]",
      "text/plain": [
       "<Figure size 800x550 with 1 Axes>"
      ]
     },
     "metadata": {},
     "output_type": "display_data"
    }
   ],
   "source": [
    "# Plot Elbow untuk membantu menentukan jumlah cluster terbaik\n",
    "plot_model(kmeans_model, plot='elbow')"
   ]
  },
  {
   "cell_type": "code",
   "execution_count": 13,
   "id": "b2a7f6e0",
   "metadata": {},
   "outputs": [
    {
     "data": {
      "text/html": [],
      "text/plain": [
       "<IPython.core.display.HTML object>"
      ]
     },
     "metadata": {},
     "output_type": "display_data"
    },
    {
     "data": {
      "image/png": "[encoded data removed]",
      "text/plain": [
       "<Figure size 800x550 with 1 Axes>"
      ]
     },
     "metadata": {},
     "output_type": "display_data"
    }
   ],
   "source": [
    "# Plot Silhouette untuk melihat seberapa baik setiap titik data cocok dalam clusternya\n",
    "plot_model(kmeans_model, plot='silhouette')"
   ]
  }
 ],
 "metadata": {
  "kernelspec": {
   "display_name": "Python 3",
   "language": "python",
   "name": "python3"
  },
  "language_info": {
   "codemirror_mode": {
    "name": "ipython",
    "version": 3
   },
   "file_extension": ".py",
   "mimetype": "text/x-python",
   "name": "python",
   "nbconvert_exporter": "python",
   "pygments_lexer": "ipython3",
   "version": "3.11.5"
  }
 },
 "nbformat": 4,
 "nbformat_minor": 5
}
